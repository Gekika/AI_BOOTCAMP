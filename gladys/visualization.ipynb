{
 "cells": [
  {
   "cell_type": "code",
   "execution_count": null,
   "metadata": {},
   "outputs": [],
   "source": [
    "import matplotlib.pyplot as plt\n",
    "\n",
    "# Line Plot\n",
    "plt.plot(x, y)\n",
    "\n",
    "# Scatter Plot\n",
    "plt.scatter(x, y)\n",
    "\n",
    "# Bar Plot\n",
    "plt.bar(x, y)\n",
    "\n",
    "# Histogram\n",
    "plt.hist(data, bins=10)\n",
    "\n",
    "# Box Plot\n",
    "plt.boxplot(data)\n",
    "\n",
    "# Univariate analysis (histograms, boxplots)\n",
    "sns.histplot(df['numeric_column'], kde=True)\n",
    "plt.show()\n",
    "\n",
    "# Bivariate analysis (scatter plots, heatmaps)\n",
    "sns.scatterplot(x='numeric_column_1', y='numeric_column_2', data=df)\n",
    "plt.show()\n",
    "\n",
    "# Categorical variables (bar plots, count plots)\n",
    "sns.countplot(x='category_column', data=df)\n",
    "plt.show()\n"
   ]
  },
  {
   "cell_type": "markdown",
   "metadata": {},
   "source": [
    "Customization"
   ]
  },
  {
   "cell_type": "code",
   "execution_count": null,
   "metadata": {},
   "outputs": [],
   "source": [
    "# Adding Title and Labels\n",
    "plt.title(\"Title\")\n",
    "plt.xlabel(\"X Label\")\n",
    "plt.ylabel(\"Y Label\")\n",
    "\n",
    "# Setting Axis Limits\n",
    "plt.xlim(xmin, xmax)\n",
    "plt.ylim(ymin, ymax)\n",
    "\n",
    "# Adding Grid Lines\n",
    "plt.grid(True)\n",
    "\n",
    "# Adding Legend\n",
    "plt.legend()\n",
    "\n",
    "# Setting Figure Size\n",
    "plt.figure(figsize=(width, height))\n"
   ]
  },
  {
   "cell_type": "markdown",
   "metadata": {},
   "source": [
    "Subplots"
   ]
  },
  {
   "cell_type": "code",
   "execution_count": null,
   "metadata": {},
   "outputs": [],
   "source": [
    "# Creating Subplots\n",
    "plt.subplot(rows, columns, index)\n",
    "\n",
    "# Subplot with Grid Layout\n",
    "plt.subplot(rows, columns, index, projection='3d')\n"
   ]
  },
  {
   "cell_type": "markdown",
   "metadata": {},
   "source": [
    "Advanced plots"
   ]
  },
  {
   "cell_type": "code",
   "execution_count": null,
   "metadata": {},
   "outputs": [],
   "source": [
    "# Contour Plot\n",
    "plt.contour(X, Y, Z)\n",
    "\n",
    "# Heatmap\n",
    "plt.imshow(data, cmap='viridis')\n",
    "\n",
    "# 3D Plot\n",
    "from mpl_toolkits.mplot3d import Axes3D\n",
    "fig = plt.figure()\n",
    "ax = fig.add_subplot(111, projection='3d')\n",
    "ax.scatter(x, y, z)"
   ]
  },
  {
   "cell_type": "markdown",
   "metadata": {},
   "source": [
    "Plotting with Seaborn"
   ]
  },
  {
   "cell_type": "code",
   "execution_count": null,
   "metadata": {},
   "outputs": [],
   "source": [
    "import seaborn as sns\n",
    "\n",
    "# Scatter Plot\n",
    "sns.scatterplot(x='x', y='y', data=data)\n",
    "\n",
    "# Line Plot\n",
    "sns.lineplot(x='x', y='y', data=data)\n",
    "\n",
    "# Histogram\n",
    "sns.histplot(data, bins=10)\n",
    "\n",
    "# KDE Plot\n",
    "sns.kdeplot(data, shade=True)\n"
   ]
  },
  {
   "cell_type": "markdown",
   "metadata": {},
   "source": [
    "Customizing the plots"
   ]
  },
  {
   "cell_type": "code",
   "execution_count": null,
   "metadata": {},
   "outputs": [],
   "source": [
    "# Changing Plot Style\n",
    "sns.set_style(\"whitegrid\")\n",
    "\n",
    "# Setting Color Palette\n",
    "sns.set_palette(\"pastel\")\n",
    "\n",
    "# Adding Title and Labels\n",
    "plt.title(\"Title\")\n",
    "plt.xlabel(\"X Label\")\n",
    "plt.ylabel(\"Y Label\")\n",
    "\n",
    "# Adding Legends\n",
    "plt.legend()\n"
   ]
  },
  {
   "cell_type": "markdown",
   "metadata": {},
   "source": [
    "Advanced Plots"
   ]
  },
  {
   "cell_type": "code",
   "execution_count": null,
   "metadata": {},
   "outputs": [],
   "source": [
    "# Pairplot\n",
    "sns.pairplot(data)\n",
    "\n",
    "# Heatmap\n",
    "sns.heatmap(data)\n",
    "\n",
    "# Box Plot\n",
    "sns.boxplot(x='x', y='y', data=data)\n",
    "\n",
    "# Violin Plot\n",
    "sns.violinplot(x='x', y='y', data=data)\n"
   ]
  },
  {
   "cell_type": "markdown",
   "metadata": {},
   "source": [
    "Statistical Plots"
   ]
  },
  {
   "cell_type": "code",
   "execution_count": null,
   "metadata": {},
   "outputs": [],
   "source": [
    "# Distribution Plot\n",
    "sns.distplot(data)\n",
    "\n",
    "# Regression Plot\n",
    "sns.regplot(x='x', y='y', data=data)"
   ]
  }
 ],
 "metadata": {
  "language_info": {
   "name": "python"
  }
 },
 "nbformat": 4,
 "nbformat_minor": 2
}
