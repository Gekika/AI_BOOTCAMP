{
 "cells": [
  {
   "cell_type": "markdown",
   "metadata": {},
   "source": [
    "Data Gathering"
   ]
  },
  {
   "cell_type": "code",
   "execution_count": null,
   "metadata": {},
   "outputs": [],
   "source": [
    "# From CSV: \n",
    "pd.read_csv('file.csv')\n",
    "\n",
    "# From Excel: \n",
    "pd.read_excel('file.xlsx')\n",
    "\n",
    "# From SQL Database: \n",
    "pd.read_sql(query, connection)\n",
    "\n",
    "# Web Scrapping\n",
    "#  BeautifulSoup "
   ]
  },
  {
   "cell_type": "markdown",
   "metadata": {},
   "source": [
    "Basic Information"
   ]
  },
  {
   "cell_type": "code",
   "execution_count": null,
   "metadata": {},
   "outputs": [],
   "source": [
    "# Display the first few rows of the DataFrame\n",
    "df.head()\n",
    "\n",
    "# Display the last few rows of the DataFrame\n",
    "df.tail()\n",
    "\n",
    "# Display the shape of the DataFrame (rows, columns)\n",
    "df.shape\n",
    "\n",
    "# Display column names and data types\n",
    "df.info()\n",
    "\n",
    "# Summary statistics for numerical columns\n",
    "df.describe()\n",
    "\n",
    "# Unique values in a column\n",
    "df['column'].unique()\n",
    "\n",
    "# Number of unique values in a column\n",
    "df['column'].nunique()\n",
    "\n",
    "# Correlation matrix\n",
    "print(df.corr())\n",
    "\n",
    "# Distribution of numerical variables\n",
    "import seaborn as sns\n",
    "sns.pairplot(df)\n",
    "plt.show()\n"
   ]
  },
  {
   "cell_type": "markdown",
   "metadata": {},
   "source": [
    "Missing Values"
   ]
  },
  {
   "cell_type": "code",
   "execution_count": null,
   "metadata": {},
   "outputs": [],
   "source": [
    "# Check for missing values in DataFrame\n",
    "df.isna() / df.isnull().sum()\n"
   ]
  },
  {
   "cell_type": "markdown",
   "metadata": {},
   "source": [
    "Handle missing values"
   ]
  },
  {
   "cell_type": "code",
   "execution_count": null,
   "metadata": {},
   "outputs": [],
   "source": [
    "# Drop rows with missing values\n",
    "df.dropna()\n",
    "\n",
    "# Fill missing values with a specified value\n",
    "df.fillna(value)\n",
    "\n",
    "# Drop rows with missing values\n",
    "df.dropna(subset=['numerical_column'], inplace=True)\n",
    "df.dropna(subset=['categorical_column'], inplace=True)  #categorical\n",
    "\n",
    "# Fill missing values with mean\n",
    "mean_value = df['numerical_column'].mean()\n",
    "df['numerical_column'].fillna(mean_value, inplace=True)\n",
    "\n",
    "# Fill missing values with median\n",
    "median_value = df['numerical_column'].median()\n",
    "df['numerical_column'].fillna(median_value, inplace=True)\n",
    "\n",
    "# Fill missing values with mode\n",
    "mode_value = df['numerical_column'].mode()[0]  # Handle multiple modes\n",
    "df['numerical_column'].fillna(mode_value, inplace=True)\n",
    "\n",
    "mode_value = df['categorical_column'].mode()[0]  #categorical\n",
    "df['categorical_column'].fillna(mode_value, inplace=True)\n",
    "\n",
    "# Fill missing values with interpolation\n",
    "df['numerical_column'].interpolate(method='linear', inplace=True)\n",
    "\n",
    "# Fill missing values with a placeholder--categorical\n",
    "df['categorical_column'].fillna('Unknown', inplace=True)\n"
   ]
  },
  {
   "cell_type": "markdown",
   "metadata": {},
   "source": [
    "Outlier Detection"
   ]
  },
  {
   "cell_type": "code",
   "execution_count": null,
   "metadata": {},
   "outputs": [],
   "source": [
    "# Calculate z-score for a numerical column\n",
    "from scipy.stats import zscore\n",
    "z_scores = zscore(df['numerical_column'])\n",
    "\n",
    "# Detect outliers using z-score\n",
    "outliers = df[np.abs(z_scores) > 3]\n",
    "\n",
    "# Visualize outliers using a boxplot\n",
    "plt.boxplot(df['numerical_column'])\n",
    "plt.show()"
   ]
  },
  {
   "cell_type": "markdown",
   "metadata": {},
   "source": [
    "Outlier Handling"
   ]
  },
  {
   "cell_type": "code",
   "execution_count": null,
   "metadata": {},
   "outputs": [],
   "source": [
    "# Drop rows with outliers\n",
    "df_clean = df[np.abs(z_scores) <= 3]\n",
    "\n",
    "# Log transformation to reduce skewness\n",
    "df['log_column'] = np.log(df['numerical_column'])\n",
    "\n",
    "# Square root transformation\n",
    "df['sqrt_column'] = np.sqrt(df['numerical_column'])\n",
    "\n",
    "# Box-Cox transformation\n",
    "from scipy.stats import boxcox\n",
    "df['boxcox_column'], _ = boxcox(df['numerical_column'])\n",
    "\n",
    "# Set a threshold for capping\n",
    "threshold = 3 * df['numerical_column'].std()\n",
    "\n",
    "# Cap outliers above the threshold\n",
    "df['capped_column'] = np.where(df['numerical_column'] > threshold, threshold, df['numerical_column'])\n",
    "\n",
    "# Cap outliers below the threshold\n",
    "df['capped_column'] = np.where(df['numerical_column'] < -threshold, -threshold, df['numerical_column'])\n",
    "\n",
    "# Apply winsorization to cap outliers\n",
    "from scipy.stats.mstats import winsorize\n",
    "df['winsorized_column'] = winsorize(df['numerical_column'], limits=[0.05, 0.05])\n",
    "\n",
    "# Fill outliers using linear interpolation\n",
    "df['interpolated_column'] = df['numerical_column'].interpolate(method='linear')"
   ]
  },
  {
   "cell_type": "markdown",
   "metadata": {},
   "source": [
    "Feature Engineering"
   ]
  },
  {
   "cell_type": "code",
   "execution_count": null,
   "metadata": {},
   "outputs": [],
   "source": [
    "# Create new features (e.g., age groups)\n",
    "df['age_group'] = pd.cut(df['age'], bins=[0, 18, 35, 60, 100], labels=['Child', 'Young Adult', 'Adult', 'Senior'])\n",
    "\n",
    "# Extract information from datetime variables\n",
    "df['year'] = pd.to_datetime(df['date']).dt.year\n",
    "df['month'] = pd.to_datetime(df['date']).dt.month\n"
   ]
  },
  {
   "cell_type": "markdown",
   "metadata": {},
   "source": [
    "Distribution Analysis"
   ]
  },
  {
   "cell_type": "code",
   "execution_count": null,
   "metadata": {},
   "outputs": [],
   "source": [
    "# Histogram for a numerical column\n",
    "plt.hist(df['column'], bins=10)\n",
    "\n",
    "# Box plot for a numerical column\n",
    "plt.boxplot(df['column'])\n",
    "\n",
    "# Distribution plot for a numerical column\n",
    "sns.distplot(df['column'])\n"
   ]
  },
  {
   "cell_type": "markdown",
   "metadata": {},
   "source": [
    "Relationship Analysis"
   ]
  },
  {
   "cell_type": "code",
   "execution_count": null,
   "metadata": {},
   "outputs": [],
   "source": [
    "# Scatter plot between two numerical columns\n",
    "plt.scatter(df['column1'], df['column2'])\n",
    "\n",
    "# Pairplot for multiple numerical columns\n",
    "sns.pairplot(df[['column1', 'column2', 'column3']])\n",
    "\n",
    "correlation = df.corr() \n",
    "\n",
    "# Heatmap for correlation matrix\n",
    "sns.heatmap(df.corr(), annot=True)"
   ]
  },
  {
   "cell_type": "markdown",
   "metadata": {},
   "source": [
    "Categorical Variables"
   ]
  },
  {
   "cell_type": "code",
   "execution_count": null,
   "metadata": {},
   "outputs": [],
   "source": [
    "# Count plot for a categorical column\n",
    "sns.countplot(df['category'])\n",
    "\n",
    "# Box plot for a numerical column by category\n",
    "sns.boxplot(x='category', y='numerical_column', data=df)\n",
    "\n",
    "# Cross-tabulation between two categorical columns\n",
    "pd.crosstab(df['category1'], df['category2'])"
   ]
  },
  {
   "cell_type": "markdown",
   "metadata": {},
   "source": [
    " Time Series Analysis"
   ]
  },
  {
   "cell_type": "code",
   "execution_count": null,
   "metadata": {},
   "outputs": [],
   "source": [
    "# Convert string to datetime format\n",
    "df['datetime_column'] = pd.to_datetime(df['datetime_column'])\n",
    "\n",
    "# Line plot for a time series data\n",
    "plt.plot(df['datetime_column'], df['value'])\n",
    "\n",
    "# Resample time series data\n",
    "df.resample('D').sum()\n"
   ]
  },
  {
   "cell_type": "markdown",
   "metadata": {},
   "source": [
    "Encoding Categorical Variables--Label Encoding: Converts categorical labels into numerical representations (0, 1, 2, ...) using the LabelEncoder from scikit-learn. Suitable for ordinal categorical variables with an inherent order.\n",
    "One-Hot Encoding: Creates binary columns for each category and assigns 1 if the category is present, 0 otherwise. Implemented using pd.get_dummies() in pandas. Suitable for nominal categorical variables without an inherent order."
   ]
  },
  {
   "cell_type": "code",
   "execution_count": null,
   "metadata": {},
   "outputs": [],
   "source": [
    "# Label encoding (for ordinal categorical variables)\n",
    "from sklearn.preprocessing import LabelEncoder\n",
    "label_encoder = LabelEncoder()\n",
    "df['encoded_category'] = label_encoder.fit_transform(df['category_column'])\n",
    "\n",
    "# One-hot encoding (for nominal categorical variables)\n",
    "encoded_df = pd.get_dummies(df, columns=['nominal_category_column'], drop_first=True)\n"
   ]
  },
  {
   "cell_type": "markdown",
   "metadata": {},
   "source": [
    "Scaling and Normalization of Numerical Features---Min-Max Scaling: Scales numerical features to a specified range (e.g., [0, 1]) using MinMaxScaler from scikit-learn.\n",
    "Standardization: Scales numerical features to have mean=0 and variance=1 using StandardScaler from scikit-learn."
   ]
  },
  {
   "cell_type": "code",
   "execution_count": null,
   "metadata": {},
   "outputs": [],
   "source": [
    "# Min-Max scaling (scaling features to a range)\n",
    "from sklearn.preprocessing import MinMaxScaler\n",
    "scaler = MinMaxScaler()\n",
    "df[['numeric_column_1', 'numeric_column_2']] = scaler.fit_transform(df[['numeric_column_1', 'numeric_column_2']])\n",
    "\n",
    "# Standardization (scaling features to have mean=0 and variance=1)\n",
    "from sklearn.preprocessing import StandardScaler\n",
    "scaler = StandardScaler()\n",
    "df[['numeric_column_1', 'numeric_column_2']] = scaler.fit_transform(df[['numeric_column_1', 'numeric_column_2']])\n"
   ]
  }
 ],
 "metadata": {
  "kernelspec": {
   "display_name": "Python 3",
   "language": "python",
   "name": "python3"
  },
  "language_info": {
   "name": "python",
   "version": "3.11.5"
  }
 },
 "nbformat": 4,
 "nbformat_minor": 2
}
