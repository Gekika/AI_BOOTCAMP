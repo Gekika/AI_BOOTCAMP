{
 "cells": [
  {
   "cell_type": "code",
   "execution_count": 2,
   "metadata": {},
   "outputs": [],
   "source": [
    "import numpy as np"
   ]
  },
  {
   "cell_type": "markdown",
   "metadata": {},
   "source": [
    "# THE STANDARD DEVIATION (GETTING THE MIN AND MAX VALUES)"
   ]
  },
  {
   "cell_type": "code",
   "execution_count": 6,
   "metadata": {},
   "outputs": [
    {
     "name": "stdout",
     "output_type": "stream",
     "text": [
      "Standard Deviation :586.4327412414829\n"
     ]
    }
   ],
   "source": [
    "Data = [10, 15,28,111,7,1,2000,300,50,70]\n",
    "Std = np.std(Data)\n",
    "print(\"Standard Deviation :\" + str(Std))"
   ]
  },
  {
   "cell_type": "code",
   "execution_count": 8,
   "metadata": {},
   "outputs": [
    {
     "name": "stdout",
     "output_type": "stream",
     "text": [
      "The Min Value :1\n"
     ]
    }
   ],
   "source": [
    "Min = min(Data)\n",
    "print(\"The Min Value :\"+ str(Min))"
   ]
  },
  {
   "cell_type": "code",
   "execution_count": 9,
   "metadata": {},
   "outputs": [
    {
     "name": "stdout",
     "output_type": "stream",
     "text": [
      "The Max Value :2000\n"
     ]
    }
   ],
   "source": [
    "Max = max(Data)\n",
    "print(\"The Max Value :\"+ str(Max))"
   ]
  },
  {
   "cell_type": "markdown",
   "metadata": {},
   "source": [
    "# GETTING THE VARIANCE OF A GIVEN DATASET "
   ]
  },
  {
   "cell_type": "code",
   "execution_count": 10,
   "metadata": {},
   "outputs": [
    {
     "name": "stdout",
     "output_type": "stream",
     "text": [
      "The Variance of our data set is: 73241.64\n"
     ]
    }
   ],
   "source": [
    "Data = [120, 130,10,94,202,100,174,300,404,1000]\n",
    "Var = np.var(Data)\n",
    "print(\"The Variance of our data set is: \"+ str(Var))"
   ]
  },
  {
   "cell_type": "markdown",
   "metadata": {},
   "source": [
    "# GETTING THE IQR(interquartile range) OF A DATASET\n",
    "- Can help detect oultliers\n"
   ]
  },
  {
   "cell_type": "code",
   "execution_count": 12,
   "metadata": {},
   "outputs": [
    {
     "name": "stdout",
     "output_type": "stream",
     "text": [
      "The IQR IS: 170.5\n"
     ]
    }
   ],
   "source": [
    "q1,q3 = np.percentile(Data,[25,75])\n",
    "Iqr = q3 - q1 \n",
    "print(\"The IQR IS: \" + str(Iqr))"
   ]
  },
  {
   "cell_type": "markdown",
   "metadata": {},
   "source": [
    "# Another method to calculate the IQR"
   ]
  },
  {
   "cell_type": "code",
   "execution_count": 13,
   "metadata": {},
   "outputs": [
    {
     "data": {
      "text/plain": [
       "170.5"
      ]
     },
     "execution_count": 13,
     "metadata": {},
     "output_type": "execute_result"
    }
   ],
   "source": [
    "from scipy.stats import iqr\n",
    "iqr(Data)"
   ]
  }
 ],
 "metadata": {
  "kernelspec": {
   "display_name": "base",
   "language": "python",
   "name": "python3"
  },
  "language_info": {
   "codemirror_mode": {
    "name": "ipython",
    "version": 3
   },
   "file_extension": ".py",
   "mimetype": "text/x-python",
   "name": "python",
   "nbconvert_exporter": "python",
   "pygments_lexer": "ipython3",
   "version": "3.11.5"
  }
 },
 "nbformat": 4,
 "nbformat_minor": 2
}
