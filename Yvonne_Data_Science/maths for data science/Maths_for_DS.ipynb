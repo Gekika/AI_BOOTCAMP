{
 "cells": [
  {
   "cell_type": "markdown",
   "metadata": {},
   "source": [
    "#                                                              MATHS FOR DATA SCIENCE"
   ]
  },
  {
   "cell_type": "code",
   "execution_count": 43,
   "metadata": {},
   "outputs": [],
   "source": [
    "# standard deviation is how dispersed data is in a given set\n",
    "import numpy as np\n",
    "from  scipy import stats\n"
   ]
  },
  {
   "cell_type": "markdown",
   "metadata": {},
   "source": [
    "# STATISTICS\n",
    "- mean/median/mode - descriptive statistics\n",
    "- population  - inferencial statistics\n",
    "- Hypotheses - A claim yet to be proven(NULL/ALTERNATIVE)\n",
    "- Standard deviation"
   ]
  },
  {
   "cell_type": "code",
   "execution_count": 44,
   "metadata": {},
   "outputs": [
    {
     "name": "stdout",
     "output_type": "stream",
     "text": [
      "Standard Deviation : 2.6095976701399777\n",
      "Mean : 4.7\n",
      "Median : 4.5\n",
      "Mode : ModeResult(mode=2, count=2)\n"
     ]
    }
   ],
   "source": [
    "data = [2,3,4,5,6,7,8,9,2,1]\n",
    "std_dev = np.std(data)\n",
    "print(\"Standard Deviation : \" +  str(std_dev) )\n",
    "\n",
    "Mean = np.mean(data)\n",
    "print(\"Mean : \" + str(Mean))\n",
    "\n",
    "Median = np.median(data)\n",
    "print(\"Median : \" + str(Median))\n",
    "\n",
    "Mode = stats.mode(data)\n",
    "print(\"Mode : \" + str(Mode))"
   ]
  },
  {
   "cell_type": "markdown",
   "metadata": {},
   "source": [
    "# LINEAR ALGEBRA\n",
    "- Scalar\n",
    "- Vectors\n",
    "- Matrices\n"
   ]
  },
  {
   "cell_type": "markdown",
   "metadata": {},
   "source": [
    "# VECTORS\n",
    "- properties/laws\n",
    "- Addition(Commutative*/Associative*/Additive Identity*/Additive Inverse*/Distributive vectors*/Distributive scalar*/Associative scalar)\n",
    "- Subtraction(Commutative*/Associative*/Distributive scalar*/)"
   ]
  },
  {
   "cell_type": "code",
   "execution_count": 45,
   "metadata": {},
   "outputs": [
    {
     "name": "stdout",
     "output_type": "stream",
     "text": [
      "This is a vector Q : [3 4 5 6 7 8 9 4 8]\n",
      "The dot product of vector P and W is : 80\n"
     ]
    }
   ],
   "source": [
    "# we can import an algorithim in this way from        (sklearn.linear_model import LinearRegression)\n",
    "# Scalar is a quantity that has magnitude\n",
    "# Vectors is a quantity that has both magnitude and direction\n",
    "# Since Machines understand numbers data is stored in Vectors, Matrices and Tensors\n",
    "\n",
    "\n",
    "# how to create a vector in python \n",
    "Q = np.array([3,4,5,6,7,8,9,4,8])\n",
    "P = np.array([2,4,6,8])\n",
    "W = np.array([8,6,4,2])\n",
    "print(\"This is a vector Q : \"+ str(Q))\n",
    "dot_product = P@W\n",
    "print(\"The dot product of vector P and W is : \" + str(dot_product))\n",
    "# we can find the dot product of vectors using this (p@u/ .dot())"
   ]
  },
  {
   "cell_type": "markdown",
   "metadata": {},
   "source": [
    "# MATRICES\n",
    "TYPES OF MATRICES\n",
    "- Square matrix\n",
    "- Tall matrix\n",
    "- Wide matrix\n",
    "- Row vector\n",
    "- Scalar matrix\n",
    "- Zero matrix \n",
    "- Identity matrix\n",
    "- Sparse matrix\n",
    "- Diagonal matrix\n",
    "- Triangular matrix"
   ]
  },
  {
   "cell_type": "code",
   "execution_count": 46,
   "metadata": {},
   "outputs": [
    {
     "name": "stdout",
     "output_type": "stream",
     "text": [
      "Sample vector [3 4 5 6 7 8 9 4 8]\n",
      "Sample matrix [[1 2 3]\n",
      " [3 4 5]\n",
      " [6 7 8]]\n"
     ]
    },
    {
     "data": {
      "text/plain": [
       "(3, 3)"
      ]
     },
     "execution_count": 46,
     "metadata": {},
     "output_type": "execute_result"
    }
   ],
   "source": [
    "print(\"Sample vector \"+ str(Q))\n",
    "np.shape(Q)\n",
    "MatrixA = np.array([[1,2,3], [3,4,5],[6,7,8]])\n",
    "MatrixB = np.array([[3,2,3], [3,4,9],[6,2,8]])\n",
    "MatrixC = np.array([[1,4,3], [3,8,5],[5,7,8]])\n",
    "\n",
    "print(\"Sample matrix \"+ str(Matrix) )\n",
    "np.shape(Matrix)"
   ]
  },
  {
   "cell_type": "markdown",
   "metadata": {},
   "source": [
    "# MATRIX OPERATIONS\n",
    "- Addition\n",
    "- Subtraction\n",
    "- Transpose"
   ]
  },
  {
   "cell_type": "code",
   "execution_count": 49,
   "metadata": {},
   "outputs": [
    {
     "name": "stdout",
     "output_type": "stream",
     "text": [
      "[[ 4  4  6]\n",
      " [ 6  8 14]\n",
      " [12  9 16]]\n",
      "[[-2  0  0]\n",
      " [ 0  0 -4]\n",
      " [ 0  5  0]]\n",
      "[[1 3 6]\n",
      " [2 4 7]\n",
      " [3 5 8]]\n"
     ]
    }
   ],
   "source": [
    "#ADDITION OF MATRICES\n",
    "Add = MatrixA + MatrixB\n",
    "print(Add)\n",
    "\n",
    "#SUBTRACTION\n",
    "Sub = MatrixA - MatrixB\n",
    "print(Sub)\n",
    "\n",
    "#TRANSPOSE OF A MATRIX\n",
    "Trans = np.transpose(MatrixA)\n",
    "print(Trans)\n"
   ]
  },
  {
   "cell_type": "markdown",
   "metadata": {},
   "source": [
    "# APPLICATIONS OF MATRICES\n",
    "- Data representation and storage\n",
    "Image processing\n",
    "Graphs and networks\n",
    "\n",
    "- Linear algebra-:\n",
    "\n",
    "Linear Regression\n",
    "Principal Components Analysis(PCA)-Dimensionality reduction techniques that uses matrix operations to identify the most important underlying patterns\n",
    "Eigen Values and Eigen Vectors-Reveal important information about the data \n",
    "\n",
    "- Machine learning-:\n",
    "Univariate /Bivariate/ Multivariate AnLysis\n",
    "Deep Learning- Convolutional Neural Networks(CNNs)-backbone of deep learning operations they heavily rely on matrix operations for Feature Extraction and Image recognition"
   ]
  },
  {
   "cell_type": "code",
   "execution_count": null,
   "metadata": {},
   "outputs": [],
   "source": []
  }
 ],
 "metadata": {
  "kernelspec": {
   "display_name": "Python 3",
   "language": "python",
   "name": "python3"
  },
  "language_info": {
   "codemirror_mode": {
    "name": "ipython",
    "version": 3
   },
   "file_extension": ".py",
   "mimetype": "text/x-python",
   "name": "python",
   "nbconvert_exporter": "python",
   "pygments_lexer": "ipython3",
   "version": "3.11.5"
  }
 },
 "nbformat": 4,
 "nbformat_minor": 2
}
