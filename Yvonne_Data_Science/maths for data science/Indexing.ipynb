{
 "cells": [
  {
   "cell_type": "code",
   "execution_count": 1,
   "id": "558a78ca-f013-430e-8f30-42f6d34b681f",
   "metadata": {
    "tags": []
   },
   "outputs": [],
   "source": [
    "import numpy as np\n",
    "\n"
   ]
  },
  {
   "cell_type": "code",
   "execution_count": 6,
   "id": "5b42d0a9-9cac-44a5-919d-3d35faae99dd",
   "metadata": {
    "tags": []
   },
   "outputs": [
    {
     "name": "stdout",
     "output_type": "stream",
     "text": [
      "[[1 2 3]\n",
      " [4 5 6]\n",
      " [7 8 9]]\n"
     ]
    }
   ],
   "source": [
    "matrix = np.array([[1, 2, 3], [4, 5, 6],\n",
    "    [7, 8, 9]\n",
    "])\n",
    "print (matrix)"
   ]
  },
  {
   "cell_type": "code",
   "execution_count": 10,
   "id": "3507f629-dcf6-4a9a-b298-7f72f7734374",
   "metadata": {
    "tags": []
   },
   "outputs": [
    {
     "name": "stdout",
     "output_type": "stream",
     "text": [
      "6\n"
     ]
    }
   ],
   "source": [
    "#To get the value at the given index \n",
    "number_six = matrix[1][2]\n",
    "print(number_six)"
   ]
  },
  {
   "cell_type": "code",
   "execution_count": null,
   "id": "c2b79e41-9d20-495f-b4b5-3bad5a57f618",
   "metadata": {},
   "outputs": [],
   "source": []
  }
 ],
 "metadata": {
  "kernelspec": {
   "display_name": "Python 3 (ipykernel)",
   "language": "python",
   "name": "python3"
  },
  "language_info": {
   "codemirror_mode": {
    "name": "ipython",
    "version": 3
   },
   "file_extension": ".py",
   "mimetype": "text/x-python",
   "name": "python",
   "nbconvert_exporter": "python",
   "pygments_lexer": "ipython3",
   "version": "3.11.5"
  }
 },
 "nbformat": 4,
 "nbformat_minor": 5
}
