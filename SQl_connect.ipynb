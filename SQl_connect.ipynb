{
 "cells": [
  {
   "cell_type": "code",
   "execution_count": 1,
   "metadata": {},
   "outputs": [],
   "source": [
    "import psycopg2\n",
    "import pandas as pd"
   ]
  },
  {
   "cell_type": "code",
   "execution_count": 4,
   "metadata": {},
   "outputs": [
    {
     "name": "stdout",
     "output_type": "stream",
     "text": [
      "(1, 'Electra')\n",
      "(2, 'Haro')\n",
      "(3, 'Heller')\n",
      "(4, 'Pure Cycles')\n",
      "(6, 'Strider')\n",
      "(7, 'Sun Bicycles')\n",
      "(8, 'Surly')\n",
      "(9, 'Trek')\n"
     ]
    }
   ],
   "source": [
    "conn = psycopg2.connect(database = 'bike_store',\n",
    "                        user=\"postgres\",\n",
    "                        host=\"localhost\",\n",
    "                        password=\"postgres\",\n",
    "                        port=\"5432\" \n",
    "                        )\n",
    "# we create a cusor to enable database operations(eg Select , Insert )\n",
    "cur= conn.cursor()\n",
    "# command to execute a query\n",
    "cur.execute(\"SELECT * FROM production.brands\")\n",
    "\n",
    "rows = cur.fetchall()\n",
    "\n",
    "# cur.close()\n",
    "# conn.close()\n",
    "for row in rows:\n",
    "    print(row)\n",
    "    \n",
    "    \n",
    "\n",
    "# convert the rows to a pandas Dataframe\n",
    "column_names = [desc[0] for desc in cur.description]\n",
    "df = pd.DataFrame(rows, columns=column_names)\n",
    "\n",
    "# print(df)    \n"
   ]
  },
  {
   "cell_type": "code",
   "execution_count": null,
   "metadata": {},
   "outputs": [],
   "source": []
  }
 ],
 "metadata": {
  "kernelspec": {
   "display_name": "base",
   "language": "python",
   "name": "python3"
  },
  "language_info": {
   "codemirror_mode": {
    "name": "ipython",
    "version": 3
   },
   "file_extension": ".py",
   "mimetype": "text/x-python",
   "name": "python",
   "nbconvert_exporter": "python",
   "pygments_lexer": "ipython3",
   "version": "3.11.5"
  }
 },
 "nbformat": 4,
 "nbformat_minor": 2
}
