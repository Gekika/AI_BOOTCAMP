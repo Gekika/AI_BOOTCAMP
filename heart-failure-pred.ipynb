{
 "cells": [
  {
   "cell_type": "code",
   "execution_count": 1,
   "id": "6ede113a",
   "metadata": {
    "_cell_guid": "b1076dfc-b9ad-4769-8c92-a6c4dae69d19",
    "_uuid": "8f2839f25d086af736a60e9eeb907d3b93b6e0e5",
    "execution": {
     "iopub.execute_input": "2024-03-08T10:01:52.202638Z",
     "iopub.status.busy": "2024-03-08T10:01:52.201935Z",
     "iopub.status.idle": "2024-03-08T10:01:55.513590Z",
     "shell.execute_reply": "2024-03-08T10:01:55.512613Z"
    },
    "papermill": {
     "duration": 3.330946,
     "end_time": "2024-03-08T10:01:55.516210",
     "exception": false,
     "start_time": "2024-03-08T10:01:52.185264",
     "status": "completed"
    },
    "tags": []
   },
   "outputs": [],
   "source": [
    "import numpy as np \n",
    "import pandas as pd\n",
    "import matplotlib.pyplot as plt\n",
    "import seaborn as sns\n",
    "from sklearn.preprocessing import LabelEncoder, StandardScaler\n",
    "from sklearn.model_selection import train_test_split\n",
    "from sklearn.tree import DecisionTreeClassifier\n",
    "from sklearn.ensemble import RandomForestClassifier\n",
    "from sklearn.metrics import classification_report, confusion_matrix"
   ]
  },
  {
   "cell_type": "code",
   "execution_count": 2,
   "id": "adc58615",
   "metadata": {
    "execution": {
     "iopub.execute_input": "2024-03-08T10:01:55.548450Z",
     "iopub.status.busy": "2024-03-08T10:01:55.547638Z",
     "iopub.status.idle": "2024-03-08T10:01:55.590181Z",
     "shell.execute_reply": "2024-03-08T10:01:55.589255Z"
    },
    "papermill": {
     "duration": 0.061147,
     "end_time": "2024-03-08T10:01:55.592537",
     "exception": false,
     "start_time": "2024-03-08T10:01:55.531390",
     "status": "completed"
    },
    "tags": []
   },
   "outputs": [
    {
     "data": {
      "text/html": [
       "<div>\n",
       "<style scoped>\n",
       "    .dataframe tbody tr th:only-of-type {\n",
       "        vertical-align: middle;\n",
       "    }\n",
       "\n",
       "    .dataframe tbody tr th {\n",
       "        vertical-align: top;\n",
       "    }\n",
       "\n",
       "    .dataframe thead th {\n",
       "        text-align: right;\n",
       "    }\n",
       "</style>\n",
       "<table border=\"1\" class=\"dataframe\">\n",
       "  <thead>\n",
       "    <tr style=\"text-align: right;\">\n",
       "      <th></th>\n",
       "      <th>Age</th>\n",
       "      <th>Sex</th>\n",
       "      <th>ChestPainType</th>\n",
       "      <th>RestingBP</th>\n",
       "      <th>Cholesterol</th>\n",
       "      <th>FastingBS</th>\n",
       "      <th>RestingECG</th>\n",
       "      <th>MaxHR</th>\n",
       "      <th>ExerciseAngina</th>\n",
       "      <th>Oldpeak</th>\n",
       "      <th>ST_Slope</th>\n",
       "      <th>HeartDisease</th>\n",
       "    </tr>\n",
       "  </thead>\n",
       "  <tbody>\n",
       "    <tr>\n",
       "      <th>0</th>\n",
       "      <td>40</td>\n",
       "      <td>M</td>\n",
       "      <td>ATA</td>\n",
       "      <td>140</td>\n",
       "      <td>289</td>\n",
       "      <td>0</td>\n",
       "      <td>Normal</td>\n",
       "      <td>172</td>\n",
       "      <td>N</td>\n",
       "      <td>0.0</td>\n",
       "      <td>Up</td>\n",
       "      <td>0</td>\n",
       "    </tr>\n",
       "    <tr>\n",
       "      <th>1</th>\n",
       "      <td>49</td>\n",
       "      <td>F</td>\n",
       "      <td>NAP</td>\n",
       "      <td>160</td>\n",
       "      <td>180</td>\n",
       "      <td>0</td>\n",
       "      <td>Normal</td>\n",
       "      <td>156</td>\n",
       "      <td>N</td>\n",
       "      <td>1.0</td>\n",
       "      <td>Flat</td>\n",
       "      <td>1</td>\n",
       "    </tr>\n",
       "    <tr>\n",
       "      <th>2</th>\n",
       "      <td>37</td>\n",
       "      <td>M</td>\n",
       "      <td>ATA</td>\n",
       "      <td>130</td>\n",
       "      <td>283</td>\n",
       "      <td>0</td>\n",
       "      <td>ST</td>\n",
       "      <td>98</td>\n",
       "      <td>N</td>\n",
       "      <td>0.0</td>\n",
       "      <td>Up</td>\n",
       "      <td>0</td>\n",
       "    </tr>\n",
       "    <tr>\n",
       "      <th>3</th>\n",
       "      <td>48</td>\n",
       "      <td>F</td>\n",
       "      <td>ASY</td>\n",
       "      <td>138</td>\n",
       "      <td>214</td>\n",
       "      <td>0</td>\n",
       "      <td>Normal</td>\n",
       "      <td>108</td>\n",
       "      <td>Y</td>\n",
       "      <td>1.5</td>\n",
       "      <td>Flat</td>\n",
       "      <td>1</td>\n",
       "    </tr>\n",
       "    <tr>\n",
       "      <th>4</th>\n",
       "      <td>54</td>\n",
       "      <td>M</td>\n",
       "      <td>NAP</td>\n",
       "      <td>150</td>\n",
       "      <td>195</td>\n",
       "      <td>0</td>\n",
       "      <td>Normal</td>\n",
       "      <td>122</td>\n",
       "      <td>N</td>\n",
       "      <td>0.0</td>\n",
       "      <td>Up</td>\n",
       "      <td>0</td>\n",
       "    </tr>\n",
       "  </tbody>\n",
       "</table>\n",
       "</div>"
      ],
      "text/plain": [
       "   Age Sex ChestPainType  RestingBP  Cholesterol  FastingBS RestingECG  MaxHR  \\\n",
       "0   40   M           ATA        140          289          0     Normal    172   \n",
       "1   49   F           NAP        160          180          0     Normal    156   \n",
       "2   37   M           ATA        130          283          0         ST     98   \n",
       "3   48   F           ASY        138          214          0     Normal    108   \n",
       "4   54   M           NAP        150          195          0     Normal    122   \n",
       "\n",
       "  ExerciseAngina  Oldpeak ST_Slope  HeartDisease  \n",
       "0              N      0.0       Up             0  \n",
       "1              N      1.0     Flat             1  \n",
       "2              N      0.0       Up             0  \n",
       "3              Y      1.5     Flat             1  \n",
       "4              N      0.0       Up             0  "
      ]
     },
     "execution_count": 2,
     "metadata": {},
     "output_type": "execute_result"
    }
   ],
   "source": [
    "df = pd.read_csv('/kaggle/input/heart-failure-prediction/heart.csv')\n",
    "df.head()"
   ]
  },
  {
   "cell_type": "code",
   "execution_count": 3,
   "id": "be1dcd98",
   "metadata": {
    "execution": {
     "iopub.execute_input": "2024-03-08T10:01:55.624846Z",
     "iopub.status.busy": "2024-03-08T10:01:55.624376Z",
     "iopub.status.idle": "2024-03-08T10:01:55.629802Z",
     "shell.execute_reply": "2024-03-08T10:01:55.628614Z"
    },
    "papermill": {
     "duration": 0.024959,
     "end_time": "2024-03-08T10:01:55.632511",
     "exception": false,
     "start_time": "2024-03-08T10:01:55.607552",
     "status": "completed"
    },
    "tags": []
   },
   "outputs": [],
   "source": [
    "# dataset copy \n",
    "df1 = df.copy()"
   ]
  },
  {
   "cell_type": "markdown",
   "id": "731257fc",
   "metadata": {
    "papermill": {
     "duration": 0.015772,
     "end_time": "2024-03-08T10:01:55.663172",
     "exception": false,
     "start_time": "2024-03-08T10:01:55.647400",
     "status": "completed"
    },
    "tags": []
   },
   "source": [
    "### DATA SANITY"
   ]
  },
  {
   "cell_type": "code",
   "execution_count": 4,
   "id": "2b9d9cb5",
   "metadata": {
    "execution": {
     "iopub.execute_input": "2024-03-08T10:01:55.695678Z",
     "iopub.status.busy": "2024-03-08T10:01:55.694495Z",
     "iopub.status.idle": "2024-03-08T10:01:55.700789Z",
     "shell.execute_reply": "2024-03-08T10:01:55.699957Z"
    },
    "papermill": {
     "duration": 0.025252,
     "end_time": "2024-03-08T10:01:55.703386",
     "exception": false,
     "start_time": "2024-03-08T10:01:55.678134",
     "status": "completed"
    },
    "tags": []
   },
   "outputs": [
    {
     "data": {
      "text/plain": [
       "(918, 12)"
      ]
     },
     "execution_count": 4,
     "metadata": {},
     "output_type": "execute_result"
    }
   ],
   "source": [
    "#  check dimension of our dataset\n",
    "df.shape"
   ]
  },
  {
   "cell_type": "code",
   "execution_count": 5,
   "id": "9cbaa101",
   "metadata": {
    "execution": {
     "iopub.execute_input": "2024-03-08T10:01:55.736062Z",
     "iopub.status.busy": "2024-03-08T10:01:55.735289Z",
     "iopub.status.idle": "2024-03-08T10:01:55.748443Z",
     "shell.execute_reply": "2024-03-08T10:01:55.747359Z"
    },
    "papermill": {
     "duration": 0.032663,
     "end_time": "2024-03-08T10:01:55.751219",
     "exception": false,
     "start_time": "2024-03-08T10:01:55.718556",
     "status": "completed"
    },
    "tags": []
   },
   "outputs": [
    {
     "data": {
      "text/plain": [
       "Age               0\n",
       "Sex               0\n",
       "ChestPainType     0\n",
       "RestingBP         0\n",
       "Cholesterol       0\n",
       "FastingBS         0\n",
       "RestingECG        0\n",
       "MaxHR             0\n",
       "ExerciseAngina    0\n",
       "Oldpeak           0\n",
       "ST_Slope          0\n",
       "HeartDisease      0\n",
       "dtype: int64"
      ]
     },
     "execution_count": 5,
     "metadata": {},
     "output_type": "execute_result"
    }
   ],
   "source": [
    "#  check null_values of our dataset\n",
    "df.isnull().sum()"
   ]
  },
  {
   "cell_type": "code",
   "execution_count": 6,
   "id": "de85dcf5",
   "metadata": {
    "execution": {
     "iopub.execute_input": "2024-03-08T10:01:55.783611Z",
     "iopub.status.busy": "2024-03-08T10:01:55.783221Z",
     "iopub.status.idle": "2024-03-08T10:01:55.800594Z",
     "shell.execute_reply": "2024-03-08T10:01:55.799481Z"
    },
    "papermill": {
     "duration": 0.036696,
     "end_time": "2024-03-08T10:01:55.803046",
     "exception": false,
     "start_time": "2024-03-08T10:01:55.766350",
     "status": "completed"
    },
    "tags": []
   },
   "outputs": [
    {
     "data": {
      "text/plain": [
       "0      False\n",
       "1      False\n",
       "2      False\n",
       "3      False\n",
       "4      False\n",
       "       ...  \n",
       "913    False\n",
       "914    False\n",
       "915    False\n",
       "916    False\n",
       "917    False\n",
       "Length: 918, dtype: bool"
      ]
     },
     "execution_count": 6,
     "metadata": {},
     "output_type": "execute_result"
    }
   ],
   "source": [
    "#  check for duplicated_values of our dataset\n",
    "df.duplicated()"
   ]
  },
  {
   "cell_type": "code",
   "execution_count": 7,
   "id": "98660cb6",
   "metadata": {
    "execution": {
     "iopub.execute_input": "2024-03-08T10:01:55.837810Z",
     "iopub.status.busy": "2024-03-08T10:01:55.837064Z",
     "iopub.status.idle": "2024-03-08T10:01:55.858156Z",
     "shell.execute_reply": "2024-03-08T10:01:55.856666Z"
    },
    "papermill": {
     "duration": 0.041642,
     "end_time": "2024-03-08T10:01:55.861025",
     "exception": false,
     "start_time": "2024-03-08T10:01:55.819383",
     "status": "completed"
    },
    "tags": []
   },
   "outputs": [
    {
     "name": "stdout",
     "output_type": "stream",
     "text": [
      "<class 'pandas.core.frame.DataFrame'>\n",
      "RangeIndex: 918 entries, 0 to 917\n",
      "Data columns (total 12 columns):\n",
      " #   Column          Non-Null Count  Dtype  \n",
      "---  ------          --------------  -----  \n",
      " 0   Age             918 non-null    int64  \n",
      " 1   Sex             918 non-null    object \n",
      " 2   ChestPainType   918 non-null    object \n",
      " 3   RestingBP       918 non-null    int64  \n",
      " 4   Cholesterol     918 non-null    int64  \n",
      " 5   FastingBS       918 non-null    int64  \n",
      " 6   RestingECG      918 non-null    object \n",
      " 7   MaxHR           918 non-null    int64  \n",
      " 8   ExerciseAngina  918 non-null    object \n",
      " 9   Oldpeak         918 non-null    float64\n",
      " 10  ST_Slope        918 non-null    object \n",
      " 11  HeartDisease    918 non-null    int64  \n",
      "dtypes: float64(1), int64(6), object(5)\n",
      "memory usage: 86.2+ KB\n"
     ]
    }
   ],
   "source": [
    "#  check dtypes of our dataset\n",
    "df.info()"
   ]
  },
  {
   "cell_type": "code",
   "execution_count": 8,
   "id": "8ed3fb71",
   "metadata": {
    "execution": {
     "iopub.execute_input": "2024-03-08T10:01:55.895473Z",
     "iopub.status.busy": "2024-03-08T10:01:55.895064Z",
     "iopub.status.idle": "2024-03-08T10:01:55.932325Z",
     "shell.execute_reply": "2024-03-08T10:01:55.931169Z"
    },
    "papermill": {
     "duration": 0.057626,
     "end_time": "2024-03-08T10:01:55.934803",
     "exception": false,
     "start_time": "2024-03-08T10:01:55.877177",
     "status": "completed"
    },
    "tags": []
   },
   "outputs": [
    {
     "data": {
      "text/html": [
       "<div>\n",
       "<style scoped>\n",
       "    .dataframe tbody tr th:only-of-type {\n",
       "        vertical-align: middle;\n",
       "    }\n",
       "\n",
       "    .dataframe tbody tr th {\n",
       "        vertical-align: top;\n",
       "    }\n",
       "\n",
       "    .dataframe thead th {\n",
       "        text-align: right;\n",
       "    }\n",
       "</style>\n",
       "<table border=\"1\" class=\"dataframe\">\n",
       "  <thead>\n",
       "    <tr style=\"text-align: right;\">\n",
       "      <th></th>\n",
       "      <th>count</th>\n",
       "      <th>mean</th>\n",
       "      <th>std</th>\n",
       "      <th>min</th>\n",
       "      <th>25%</th>\n",
       "      <th>50%</th>\n",
       "      <th>75%</th>\n",
       "      <th>max</th>\n",
       "    </tr>\n",
       "  </thead>\n",
       "  <tbody>\n",
       "    <tr>\n",
       "      <th>Age</th>\n",
       "      <td>918.0</td>\n",
       "      <td>53.510893</td>\n",
       "      <td>9.432617</td>\n",
       "      <td>28.0</td>\n",
       "      <td>47.00</td>\n",
       "      <td>54.0</td>\n",
       "      <td>60.0</td>\n",
       "      <td>77.0</td>\n",
       "    </tr>\n",
       "    <tr>\n",
       "      <th>RestingBP</th>\n",
       "      <td>918.0</td>\n",
       "      <td>132.396514</td>\n",
       "      <td>18.514154</td>\n",
       "      <td>0.0</td>\n",
       "      <td>120.00</td>\n",
       "      <td>130.0</td>\n",
       "      <td>140.0</td>\n",
       "      <td>200.0</td>\n",
       "    </tr>\n",
       "    <tr>\n",
       "      <th>Cholesterol</th>\n",
       "      <td>918.0</td>\n",
       "      <td>198.799564</td>\n",
       "      <td>109.384145</td>\n",
       "      <td>0.0</td>\n",
       "      <td>173.25</td>\n",
       "      <td>223.0</td>\n",
       "      <td>267.0</td>\n",
       "      <td>603.0</td>\n",
       "    </tr>\n",
       "    <tr>\n",
       "      <th>FastingBS</th>\n",
       "      <td>918.0</td>\n",
       "      <td>0.233115</td>\n",
       "      <td>0.423046</td>\n",
       "      <td>0.0</td>\n",
       "      <td>0.00</td>\n",
       "      <td>0.0</td>\n",
       "      <td>0.0</td>\n",
       "      <td>1.0</td>\n",
       "    </tr>\n",
       "    <tr>\n",
       "      <th>MaxHR</th>\n",
       "      <td>918.0</td>\n",
       "      <td>136.809368</td>\n",
       "      <td>25.460334</td>\n",
       "      <td>60.0</td>\n",
       "      <td>120.00</td>\n",
       "      <td>138.0</td>\n",
       "      <td>156.0</td>\n",
       "      <td>202.0</td>\n",
       "    </tr>\n",
       "    <tr>\n",
       "      <th>Oldpeak</th>\n",
       "      <td>918.0</td>\n",
       "      <td>0.887364</td>\n",
       "      <td>1.066570</td>\n",
       "      <td>-2.6</td>\n",
       "      <td>0.00</td>\n",
       "      <td>0.6</td>\n",
       "      <td>1.5</td>\n",
       "      <td>6.2</td>\n",
       "    </tr>\n",
       "    <tr>\n",
       "      <th>HeartDisease</th>\n",
       "      <td>918.0</td>\n",
       "      <td>0.553377</td>\n",
       "      <td>0.497414</td>\n",
       "      <td>0.0</td>\n",
       "      <td>0.00</td>\n",
       "      <td>1.0</td>\n",
       "      <td>1.0</td>\n",
       "      <td>1.0</td>\n",
       "    </tr>\n",
       "  </tbody>\n",
       "</table>\n",
       "</div>"
      ],
      "text/plain": [
       "              count        mean         std   min     25%    50%    75%    max\n",
       "Age           918.0   53.510893    9.432617  28.0   47.00   54.0   60.0   77.0\n",
       "RestingBP     918.0  132.396514   18.514154   0.0  120.00  130.0  140.0  200.0\n",
       "Cholesterol   918.0  198.799564  109.384145   0.0  173.25  223.0  267.0  603.0\n",
       "FastingBS     918.0    0.233115    0.423046   0.0    0.00    0.0    0.0    1.0\n",
       "MaxHR         918.0  136.809368   25.460334  60.0  120.00  138.0  156.0  202.0\n",
       "Oldpeak       918.0    0.887364    1.066570  -2.6    0.00    0.6    1.5    6.2\n",
       "HeartDisease  918.0    0.553377    0.497414   0.0    0.00    1.0    1.0    1.0"
      ]
     },
     "execution_count": 8,
     "metadata": {},
     "output_type": "execute_result"
    }
   ],
   "source": [
    "#  check the descriptive for numerical_columns info of our dataset\n",
    "df.describe().T"
   ]
  },
  {
   "cell_type": "code",
   "execution_count": 9,
   "id": "95b990d9",
   "metadata": {
    "execution": {
     "iopub.execute_input": "2024-03-08T10:01:55.968830Z",
     "iopub.status.busy": "2024-03-08T10:01:55.967720Z",
     "iopub.status.idle": "2024-03-08T10:01:55.990297Z",
     "shell.execute_reply": "2024-03-08T10:01:55.989366Z"
    },
    "papermill": {
     "duration": 0.042179,
     "end_time": "2024-03-08T10:01:55.992688",
     "exception": false,
     "start_time": "2024-03-08T10:01:55.950509",
     "status": "completed"
    },
    "tags": []
   },
   "outputs": [
    {
     "data": {
      "text/html": [
       "<div>\n",
       "<style scoped>\n",
       "    .dataframe tbody tr th:only-of-type {\n",
       "        vertical-align: middle;\n",
       "    }\n",
       "\n",
       "    .dataframe tbody tr th {\n",
       "        vertical-align: top;\n",
       "    }\n",
       "\n",
       "    .dataframe thead th {\n",
       "        text-align: right;\n",
       "    }\n",
       "</style>\n",
       "<table border=\"1\" class=\"dataframe\">\n",
       "  <thead>\n",
       "    <tr style=\"text-align: right;\">\n",
       "      <th></th>\n",
       "      <th>count</th>\n",
       "      <th>unique</th>\n",
       "      <th>top</th>\n",
       "      <th>freq</th>\n",
       "    </tr>\n",
       "  </thead>\n",
       "  <tbody>\n",
       "    <tr>\n",
       "      <th>Sex</th>\n",
       "      <td>918</td>\n",
       "      <td>2</td>\n",
       "      <td>M</td>\n",
       "      <td>725</td>\n",
       "    </tr>\n",
       "    <tr>\n",
       "      <th>ChestPainType</th>\n",
       "      <td>918</td>\n",
       "      <td>4</td>\n",
       "      <td>ASY</td>\n",
       "      <td>496</td>\n",
       "    </tr>\n",
       "    <tr>\n",
       "      <th>RestingECG</th>\n",
       "      <td>918</td>\n",
       "      <td>3</td>\n",
       "      <td>Normal</td>\n",
       "      <td>552</td>\n",
       "    </tr>\n",
       "    <tr>\n",
       "      <th>ExerciseAngina</th>\n",
       "      <td>918</td>\n",
       "      <td>2</td>\n",
       "      <td>N</td>\n",
       "      <td>547</td>\n",
       "    </tr>\n",
       "    <tr>\n",
       "      <th>ST_Slope</th>\n",
       "      <td>918</td>\n",
       "      <td>3</td>\n",
       "      <td>Flat</td>\n",
       "      <td>460</td>\n",
       "    </tr>\n",
       "  </tbody>\n",
       "</table>\n",
       "</div>"
      ],
      "text/plain": [
       "               count unique     top freq\n",
       "Sex              918      2       M  725\n",
       "ChestPainType    918      4     ASY  496\n",
       "RestingECG       918      3  Normal  552\n",
       "ExerciseAngina   918      2       N  547\n",
       "ST_Slope         918      3    Flat  460"
      ]
     },
     "execution_count": 9,
     "metadata": {},
     "output_type": "execute_result"
    }
   ],
   "source": [
    "#  check the descriptive for categorical_columns info of our dataset\n",
    "\n",
    "df.describe(include=\"object\").T"
   ]
  },
  {
   "cell_type": "markdown",
   "id": "4598ee03",
   "metadata": {
    "papermill": {
     "duration": 0.015607,
     "end_time": "2024-03-08T10:01:56.024499",
     "exception": false,
     "start_time": "2024-03-08T10:01:56.008892",
     "status": "completed"
    },
    "tags": []
   },
   "source": [
    "### UNIVARIATE ANALYSES"
   ]
  },
  {
   "cell_type": "markdown",
   "id": "f993efbe",
   "metadata": {
    "papermill": {
     "duration": 0.015578,
     "end_time": "2024-03-08T10:01:56.056079",
     "exception": false,
     "start_time": "2024-03-08T10:01:56.040501",
     "status": "completed"
    },
    "tags": []
   },
   "source": [
    "## CATEGORICAL COLUMNS"
   ]
  },
  {
   "cell_type": "code",
   "execution_count": 10,
   "id": "43800efa",
   "metadata": {
    "execution": {
     "iopub.execute_input": "2024-03-08T10:01:56.090273Z",
     "iopub.status.busy": "2024-03-08T10:01:56.089144Z",
     "iopub.status.idle": "2024-03-08T10:01:56.319875Z",
     "shell.execute_reply": "2024-03-08T10:01:56.318818Z"
    },
    "papermill": {
     "duration": 0.250453,
     "end_time": "2024-03-08T10:01:56.322470",
     "exception": false,
     "start_time": "2024-03-08T10:01:56.072017",
     "status": "completed"
    },
    "tags": []
   },
   "outputs": [
    {
     "data": {
      "text/plain": [
       "<Axes: xlabel='Sex', ylabel='count'>"
      ]
     },
     "execution_count": 10,
     "metadata": {},
     "output_type": "execute_result"
    },
    {
     "data": {
      "image/png": "[encoded data removed]",
      "text/plain": [
       "<Figure size 640x480 with 1 Axes>"
      ]
     },
     "metadata": {},
     "output_type": "display_data"
    }
   ],
   "source": [
    "# plotting the sex column\n",
    "sns.countplot(data=df, x='Sex')"
   ]
  },
  {
   "cell_type": "code",
   "execution_count": 11,
   "id": "16337488",
   "metadata": {
    "execution": {
     "iopub.execute_input": "2024-03-08T10:01:56.357258Z",
     "iopub.status.busy": "2024-03-08T10:01:56.356845Z",
     "iopub.status.idle": "2024-03-08T10:01:56.549091Z",
     "shell.execute_reply": "2024-03-08T10:01:56.547873Z"
    },
    "papermill": {
     "duration": 0.212971,
     "end_time": "2024-03-08T10:01:56.551776",
     "exception": false,
     "start_time": "2024-03-08T10:01:56.338805",
     "status": "completed"
    },
    "tags": []
   },
   "outputs": [
    {
     "data": {
      "text/plain": [
       "<Axes: xlabel='ChestPainType', ylabel='count'>"
      ]
     },
     "execution_count": 11,
     "metadata": {},
     "output_type": "execute_result"
    },
    {
     "data": {
      "image/png": "[encoded data removed]",
      "text/plain": [
       "<Figure size 640x480 with 1 Axes>"
      ]
     },
     "metadata": {},
     "output_type": "display_data"
    }
   ],
   "source": [
    "# plotting the ChestPainType column\n",
    "sns.countplot(data=df, x='ChestPainType')"
   ]
  },
  {
   "cell_type": "code",
   "execution_count": 12,
   "id": "565647c2",
   "metadata": {
    "execution": {
     "iopub.execute_input": "2024-03-08T10:01:56.587542Z",
     "iopub.status.busy": "2024-03-08T10:01:56.587146Z",
     "iopub.status.idle": "2024-03-08T10:01:56.778708Z",
     "shell.execute_reply": "2024-03-08T10:01:56.777186Z"
    },
    "papermill": {
     "duration": 0.213318,
     "end_time": "2024-03-08T10:01:56.782024",
     "exception": false,
     "start_time": "2024-03-08T10:01:56.568706",
     "status": "completed"
    },
    "tags": []
   },
   "outputs": [
    {
     "data": {
      "text/plain": [
       "<Axes: xlabel='RestingECG', ylabel='count'>"
      ]
     },
     "execution_count": 12,
     "metadata": {},
     "output_type": "execute_result"
    },
    {
     "data": {
      "image/png": "[encoded data removed]",
      "text/plain": [
       "<Figure size 640x480 with 1 Axes>"
      ]
     },
     "metadata": {},
     "output_type": "display_data"
    }
   ],
   "source": [
    "# plotting the RestingECG column\n",
    "sns.countplot(data=df, x='RestingECG')"
   ]
  },
  {
   "cell_type": "code",
   "execution_count": 13,
   "id": "989c14bb",
   "metadata": {
    "execution": {
     "iopub.execute_input": "2024-03-08T10:01:56.820451Z",
     "iopub.status.busy": "2024-03-08T10:01:56.820043Z",
     "iopub.status.idle": "2024-03-08T10:01:57.004501Z",
     "shell.execute_reply": "2024-03-08T10:01:57.002157Z"
    },
    "papermill": {
     "duration": 0.207077,
     "end_time": "2024-03-08T10:01:57.007308",
     "exception": false,
     "start_time": "2024-03-08T10:01:56.800231",
     "status": "completed"
    },
    "tags": []
   },
   "outputs": [
    {
     "data": {
      "text/plain": [
       "<Axes: xlabel='ExerciseAngina', ylabel='count'>"
      ]
     },
     "execution_count": 13,
     "metadata": {},
     "output_type": "execute_result"
    },
    {
     "data": {
      "image/png": "[encoded data removed]",
      "text/plain": [
       "<Figure size 640x480 with 1 Axes>"
      ]
     },
     "metadata": {},
     "output_type": "display_data"
    }
   ],
   "source": [
    "# plotting the ExerciseAngina column\n",
    "sns.countplot(data=df, x='ExerciseAngina')"
   ]
  },
  {
   "cell_type": "code",
   "execution_count": 14,
   "id": "f1940df0",
   "metadata": {
    "execution": {
     "iopub.execute_input": "2024-03-08T10:01:57.045766Z",
     "iopub.status.busy": "2024-03-08T10:01:57.045120Z",
     "iopub.status.idle": "2024-03-08T10:01:57.242048Z",
     "shell.execute_reply": "2024-03-08T10:01:57.240838Z"
    },
    "papermill": {
     "duration": 0.219433,
     "end_time": "2024-03-08T10:01:57.244740",
     "exception": false,
     "start_time": "2024-03-08T10:01:57.025307",
     "status": "completed"
    },
    "tags": []
   },
   "outputs": [
    {
     "data": {
      "text/plain": [
       "<Axes: xlabel='ST_Slope', ylabel='count'>"
      ]
     },
     "execution_count": 14,
     "metadata": {},
     "output_type": "execute_result"
    },
    {
     "data": {
      "image/png": "[encoded data removed]",
      "text/plain": [
       "<Figure size 640x480 with 1 Axes>"
      ]
     },
     "metadata": {},
     "output_type": "display_data"
    }
   ],
   "source": [
    "# plotting the ST_Slope\n",
    "sns.countplot(data=df, x='ST_Slope')"
   ]
  },
  {
   "cell_type": "markdown",
   "id": "50b8afce",
   "metadata": {
    "papermill": {
     "duration": 0.02,
     "end_time": "2024-03-08T10:01:57.283407",
     "exception": false,
     "start_time": "2024-03-08T10:01:57.263407",
     "status": "completed"
    },
    "tags": []
   },
   "source": [
    "## NUMERICAL COLUMNS"
   ]
  },
  {
   "cell_type": "code",
   "execution_count": 15,
   "id": "10a39995",
   "metadata": {
    "execution": {
     "iopub.execute_input": "2024-03-08T10:01:57.323763Z",
     "iopub.status.busy": "2024-03-08T10:01:57.323341Z",
     "iopub.status.idle": "2024-03-08T10:01:57.717700Z",
     "shell.execute_reply": "2024-03-08T10:01:57.716253Z"
    },
    "papermill": {
     "duration": 0.418214,
     "end_time": "2024-03-08T10:01:57.720792",
     "exception": false,
     "start_time": "2024-03-08T10:01:57.302578",
     "status": "completed"
    },
    "tags": []
   },
   "outputs": [
    {
     "name": "stderr",
     "output_type": "stream",
     "text": [
      "/opt/conda/lib/python3.10/site-packages/seaborn/_oldcore.py:1119: FutureWarning: use_inf_as_na option is deprecated and will be removed in a future version. Convert inf values to NaN before operating instead.\n",
      "  with pd.option_context('mode.use_inf_as_na', True):\n"
     ]
    },
    {
     "data": {
      "text/plain": [
       "<Axes: xlabel='HeartDisease', ylabel='Count'>"
      ]
     },
     "execution_count": 15,
     "metadata": {},
     "output_type": "execute_result"
    },
    {
     "data": {
      "image/png": "[encoded data removed]",
      "text/plain": [
       "<Figure size 640x480 with 1 Axes>"
      ]
     },
     "metadata": {},
     "output_type": "display_data"
    }
   ],
   "source": [
    "# plotting the sex column\n",
    "sns.histplot(data=df, x='HeartDisease',kde = True)"
   ]
  },
  {
   "cell_type": "code",
   "execution_count": 16,
   "id": "54ae2a49",
   "metadata": {
    "execution": {
     "iopub.execute_input": "2024-03-08T10:01:57.761289Z",
     "iopub.status.busy": "2024-03-08T10:01:57.760894Z",
     "iopub.status.idle": "2024-03-08T10:01:58.203424Z",
     "shell.execute_reply": "2024-03-08T10:01:58.201260Z"
    },
    "papermill": {
     "duration": 0.468524,
     "end_time": "2024-03-08T10:01:58.208339",
     "exception": false,
     "start_time": "2024-03-08T10:01:57.739815",
     "status": "completed"
    },
    "tags": []
   },
   "outputs": [
    {
     "name": "stderr",
     "output_type": "stream",
     "text": [
      "/opt/conda/lib/python3.10/site-packages/seaborn/_oldcore.py:1119: FutureWarning: use_inf_as_na option is deprecated and will be removed in a future version. Convert inf values to NaN before operating instead.\n",
      "  with pd.option_context('mode.use_inf_as_na', True):\n"
     ]
    },
    {
     "data": {
      "text/plain": [
       "<Axes: xlabel='Age', ylabel='Count'>"
      ]
     },
     "execution_count": 16,
     "metadata": {},
     "output_type": "execute_result"
    },
    {
     "data": {
      "image/png": "[encoded data removed]",
      "text/plain": [
       "<Figure size 640x480 with 1 Axes>"
      ]
     },
     "metadata": {},
     "output_type": "display_data"
    }
   ],
   "source": [
    "# plotting the aGE column\n",
    "sns.histplot(data=df, x='Age',kde = True)"
   ]
  },
  {
   "cell_type": "code",
   "execution_count": 17,
   "id": "e4196d22",
   "metadata": {
    "execution": {
     "iopub.execute_input": "2024-03-08T10:01:58.265028Z",
     "iopub.status.busy": "2024-03-08T10:01:58.264067Z",
     "iopub.status.idle": "2024-03-08T10:01:58.831983Z",
     "shell.execute_reply": "2024-03-08T10:01:58.830830Z"
    },
    "papermill": {
     "duration": 0.598049,
     "end_time": "2024-03-08T10:01:58.834991",
     "exception": false,
     "start_time": "2024-03-08T10:01:58.236942",
     "status": "completed"
    },
    "tags": []
   },
   "outputs": [
    {
     "name": "stderr",
     "output_type": "stream",
     "text": [
      "/opt/conda/lib/python3.10/site-packages/seaborn/_oldcore.py:1119: FutureWarning: use_inf_as_na option is deprecated and will be removed in a future version. Convert inf values to NaN before operating instead.\n",
      "  with pd.option_context('mode.use_inf_as_na', True):\n"
     ]
    },
    {
     "data": {
      "text/plain": [
       "<Axes: xlabel='RestingBP', ylabel='Count'>"
      ]
     },
     "execution_count": 17,
     "metadata": {},
     "output_type": "execute_result"
    },
    {
     "data": {
      "image/png": "[encoded data removed]",
      "text/plain": [
       "<Figure size 640x480 with 1 Axes>"
      ]
     },
     "metadata": {},
     "output_type": "display_data"
    }
   ],
   "source": [
    "# plotting the RestingBP column\n",
    "sns.histplot(data=df, x='RestingBP',kde = True)"
   ]
  },
  {
   "cell_type": "code",
   "execution_count": 18,
   "id": "b17c6f11",
   "metadata": {
    "execution": {
     "iopub.execute_input": "2024-03-08T10:01:58.888671Z",
     "iopub.status.busy": "2024-03-08T10:01:58.888183Z",
     "iopub.status.idle": "2024-03-08T10:01:59.351456Z",
     "shell.execute_reply": "2024-03-08T10:01:59.350248Z"
    },
    "papermill": {
     "duration": 0.489623,
     "end_time": "2024-03-08T10:01:59.354083",
     "exception": false,
     "start_time": "2024-03-08T10:01:58.864460",
     "status": "completed"
    },
    "tags": []
   },
   "outputs": [
    {
     "name": "stderr",
     "output_type": "stream",
     "text": [
      "/opt/conda/lib/python3.10/site-packages/seaborn/_oldcore.py:1119: FutureWarning: use_inf_as_na option is deprecated and will be removed in a future version. Convert inf values to NaN before operating instead.\n",
      "  with pd.option_context('mode.use_inf_as_na', True):\n"
     ]
    },
    {
     "data": {
      "text/plain": [
       "<Axes: xlabel='Cholesterol', ylabel='Count'>"
      ]
     },
     "execution_count": 18,
     "metadata": {},
     "output_type": "execute_result"
    },
    {
     "data": {
      "image/png": "[encoded data removed]",
      "text/plain": [
       "<Figure size 640x480 with 1 Axes>"
      ]
     },
     "metadata": {},
     "output_type": "display_data"
    }
   ],
   "source": [
    "# plotting the Cholesterol column\n",
    "sns.histplot(data=df, x='Cholesterol',kde = True)"
   ]
  },
  {
   "cell_type": "code",
   "execution_count": 19,
   "id": "e8fd6889",
   "metadata": {
    "execution": {
     "iopub.execute_input": "2024-03-08T10:01:59.462448Z",
     "iopub.status.busy": "2024-03-08T10:01:59.462019Z",
     "iopub.status.idle": "2024-03-08T10:01:59.926020Z",
     "shell.execute_reply": "2024-03-08T10:01:59.924524Z"
    },
    "papermill": {
     "duration": 0.489884,
     "end_time": "2024-03-08T10:01:59.928760",
     "exception": false,
     "start_time": "2024-03-08T10:01:59.438876",
     "status": "completed"
    },
    "tags": []
   },
   "outputs": [
    {
     "name": "stderr",
     "output_type": "stream",
     "text": [
      "/opt/conda/lib/python3.10/site-packages/seaborn/_oldcore.py:1119: FutureWarning: use_inf_as_na option is deprecated and will be removed in a future version. Convert inf values to NaN before operating instead.\n",
      "  with pd.option_context('mode.use_inf_as_na', True):\n"
     ]
    },
    {
     "data": {
      "text/plain": [
       "<Axes: xlabel='Oldpeak', ylabel='Count'>"
      ]
     },
     "execution_count": 19,
     "metadata": {},
     "output_type": "execute_result"
    },
    {
     "data": {
      "image/png": "[encoded data removed]",
      "text/plain": [
       "<Figure size 640x480 with 1 Axes>"
      ]
     },
     "metadata": {},
     "output_type": "display_data"
    }
   ],
   "source": [
    "# plotting the Oldpeak column\n",
    "sns.histplot(data=df, x='Oldpeak',kde = True)"
   ]
  },
  {
   "cell_type": "markdown",
   "id": "cb9c6d52",
   "metadata": {
    "papermill": {
     "duration": 0.022952,
     "end_time": "2024-03-08T10:01:59.974554",
     "exception": false,
     "start_time": "2024-03-08T10:01:59.951602",
     "status": "completed"
    },
    "tags": []
   },
   "source": [
    "### BIVARIATE ANALYSIS"
   ]
  },
  {
   "cell_type": "code",
   "execution_count": 20,
   "id": "a2cc3c1d",
   "metadata": {
    "execution": {
     "iopub.execute_input": "2024-03-08T10:02:00.022127Z",
     "iopub.status.busy": "2024-03-08T10:02:00.021692Z",
     "iopub.status.idle": "2024-03-08T10:02:00.467499Z",
     "shell.execute_reply": "2024-03-08T10:02:00.466196Z"
    },
    "papermill": {
     "duration": 0.47361,
     "end_time": "2024-03-08T10:02:00.470693",
     "exception": false,
     "start_time": "2024-03-08T10:01:59.997083",
     "status": "completed"
    },
    "tags": []
   },
   "outputs": [
    {
     "data": {
      "text/plain": [
       "<Axes: xlabel='Sex', ylabel='Age'>"
      ]
     },
     "execution_count": 20,
     "metadata": {},
     "output_type": "execute_result"
    },
    {
     "data": {
      "image/png": "[encoded data removed]",
      "text/plain": [
       "<Figure size 640x480 with 1 Axes>"
      ]
     },
     "metadata": {},
     "output_type": "display_data"
    }
   ],
   "source": [
    "# gets the relationship between two numerical columns \n",
    "\n",
    "sns.boxplot(data=df, x='Sex' , y='Age',hue='HeartDisease')"
   ]
  },
  {
   "cell_type": "code",
   "execution_count": 21,
   "id": "efcc08fb",
   "metadata": {
    "execution": {
     "iopub.execute_input": "2024-03-08T10:02:00.517723Z",
     "iopub.status.busy": "2024-03-08T10:02:00.517316Z",
     "iopub.status.idle": "2024-03-08T10:02:01.031087Z",
     "shell.execute_reply": "2024-03-08T10:02:01.029326Z"
    },
    "papermill": {
     "duration": 0.540667,
     "end_time": "2024-03-08T10:02:01.034046",
     "exception": false,
     "start_time": "2024-03-08T10:02:00.493379",
     "status": "completed"
    },
    "tags": []
   },
   "outputs": [
    {
     "data": {
      "text/plain": [
       "<Axes: xlabel='Sex', ylabel='Cholesterol'>"
      ]
     },
     "execution_count": 21,
     "metadata": {},
     "output_type": "execute_result"
    },
    {
     "data": {
      "image/png": "[encoded data removed]",
      "text/plain": [
       "<Figure size 640x480 with 1 Axes>"
      ]
     },
     "metadata": {},
     "output_type": "display_data"
    }
   ],
   "source": [
    "sns.violinplot(data=df, x='Sex' , y='Cholesterol',hue='HeartDisease')"
   ]
  },
  {
   "cell_type": "markdown",
   "id": "c509b66e",
   "metadata": {
    "papermill": {
     "duration": 0.023734,
     "end_time": "2024-03-08T10:02:01.082070",
     "exception": false,
     "start_time": "2024-03-08T10:02:01.058336",
     "status": "completed"
    },
    "tags": []
   },
   "source": [
    "### FEATURE ENGINEERING"
   ]
  },
  {
   "cell_type": "code",
   "execution_count": 22,
   "id": "8eb7278e",
   "metadata": {
    "execution": {
     "iopub.execute_input": "2024-03-08T10:02:01.134482Z",
     "iopub.status.busy": "2024-03-08T10:02:01.133057Z",
     "iopub.status.idle": "2024-03-08T10:02:01.154266Z",
     "shell.execute_reply": "2024-03-08T10:02:01.152795Z"
    },
    "papermill": {
     "duration": 0.051231,
     "end_time": "2024-03-08T10:02:01.157243",
     "exception": false,
     "start_time": "2024-03-08T10:02:01.106012",
     "status": "completed"
    },
    "tags": []
   },
   "outputs": [
    {
     "data": {
      "text/html": [
       "<div>\n",
       "<style scoped>\n",
       "    .dataframe tbody tr th:only-of-type {\n",
       "        vertical-align: middle;\n",
       "    }\n",
       "\n",
       "    .dataframe tbody tr th {\n",
       "        vertical-align: top;\n",
       "    }\n",
       "\n",
       "    .dataframe thead th {\n",
       "        text-align: right;\n",
       "    }\n",
       "</style>\n",
       "<table border=\"1\" class=\"dataframe\">\n",
       "  <thead>\n",
       "    <tr style=\"text-align: right;\">\n",
       "      <th></th>\n",
       "      <th>Age</th>\n",
       "      <th>Sex</th>\n",
       "      <th>ChestPainType</th>\n",
       "      <th>RestingBP</th>\n",
       "      <th>Cholesterol</th>\n",
       "      <th>FastingBS</th>\n",
       "      <th>RestingECG</th>\n",
       "      <th>MaxHR</th>\n",
       "      <th>ExerciseAngina</th>\n",
       "      <th>Oldpeak</th>\n",
       "      <th>ST_Slope</th>\n",
       "      <th>HeartDisease</th>\n",
       "    </tr>\n",
       "  </thead>\n",
       "  <tbody>\n",
       "    <tr>\n",
       "      <th>0</th>\n",
       "      <td>40</td>\n",
       "      <td>M</td>\n",
       "      <td>ATA</td>\n",
       "      <td>140</td>\n",
       "      <td>289</td>\n",
       "      <td>0</td>\n",
       "      <td>Normal</td>\n",
       "      <td>172</td>\n",
       "      <td>N</td>\n",
       "      <td>0.0</td>\n",
       "      <td>Up</td>\n",
       "      <td>0</td>\n",
       "    </tr>\n",
       "    <tr>\n",
       "      <th>1</th>\n",
       "      <td>49</td>\n",
       "      <td>F</td>\n",
       "      <td>NAP</td>\n",
       "      <td>160</td>\n",
       "      <td>180</td>\n",
       "      <td>0</td>\n",
       "      <td>Normal</td>\n",
       "      <td>156</td>\n",
       "      <td>N</td>\n",
       "      <td>1.0</td>\n",
       "      <td>Flat</td>\n",
       "      <td>1</td>\n",
       "    </tr>\n",
       "    <tr>\n",
       "      <th>2</th>\n",
       "      <td>37</td>\n",
       "      <td>M</td>\n",
       "      <td>ATA</td>\n",
       "      <td>130</td>\n",
       "      <td>283</td>\n",
       "      <td>0</td>\n",
       "      <td>ST</td>\n",
       "      <td>98</td>\n",
       "      <td>N</td>\n",
       "      <td>0.0</td>\n",
       "      <td>Up</td>\n",
       "      <td>0</td>\n",
       "    </tr>\n",
       "    <tr>\n",
       "      <th>3</th>\n",
       "      <td>48</td>\n",
       "      <td>F</td>\n",
       "      <td>ASY</td>\n",
       "      <td>138</td>\n",
       "      <td>214</td>\n",
       "      <td>0</td>\n",
       "      <td>Normal</td>\n",
       "      <td>108</td>\n",
       "      <td>Y</td>\n",
       "      <td>1.5</td>\n",
       "      <td>Flat</td>\n",
       "      <td>1</td>\n",
       "    </tr>\n",
       "    <tr>\n",
       "      <th>4</th>\n",
       "      <td>54</td>\n",
       "      <td>M</td>\n",
       "      <td>NAP</td>\n",
       "      <td>150</td>\n",
       "      <td>195</td>\n",
       "      <td>0</td>\n",
       "      <td>Normal</td>\n",
       "      <td>122</td>\n",
       "      <td>N</td>\n",
       "      <td>0.0</td>\n",
       "      <td>Up</td>\n",
       "      <td>0</td>\n",
       "    </tr>\n",
       "  </tbody>\n",
       "</table>\n",
       "</div>"
      ],
      "text/plain": [
       "   Age Sex ChestPainType  RestingBP  Cholesterol  FastingBS RestingECG  MaxHR  \\\n",
       "0   40   M           ATA        140          289          0     Normal    172   \n",
       "1   49   F           NAP        160          180          0     Normal    156   \n",
       "2   37   M           ATA        130          283          0         ST     98   \n",
       "3   48   F           ASY        138          214          0     Normal    108   \n",
       "4   54   M           NAP        150          195          0     Normal    122   \n",
       "\n",
       "  ExerciseAngina  Oldpeak ST_Slope  HeartDisease  \n",
       "0              N      0.0       Up             0  \n",
       "1              N      1.0     Flat             1  \n",
       "2              N      0.0       Up             0  \n",
       "3              Y      1.5     Flat             1  \n",
       "4              N      0.0       Up             0  "
      ]
     },
     "execution_count": 22,
     "metadata": {},
     "output_type": "execute_result"
    }
   ],
   "source": [
    "df.head()"
   ]
  },
  {
   "cell_type": "markdown",
   "id": "d28dedc2",
   "metadata": {
    "papermill": {
     "duration": 0.025965,
     "end_time": "2024-03-08T10:02:01.208066",
     "exception": false,
     "start_time": "2024-03-08T10:02:01.182101",
     "status": "completed"
    },
    "tags": []
   },
   "source": [
    "### converting categorical columns to numerical"
   ]
  },
  {
   "cell_type": "markdown",
   "id": "cee67207",
   "metadata": {
    "papermill": {
     "duration": 0.024291,
     "end_time": "2024-03-08T10:02:01.260036",
     "exception": false,
     "start_time": "2024-03-08T10:02:01.235745",
     "status": "completed"
    },
    "tags": []
   },
   "source": [
    "##### BINOMIAL"
   ]
  },
  {
   "cell_type": "code",
   "execution_count": 23,
   "id": "90dc0d3c",
   "metadata": {
    "execution": {
     "iopub.execute_input": "2024-03-08T10:02:01.311437Z",
     "iopub.status.busy": "2024-03-08T10:02:01.311017Z",
     "iopub.status.idle": "2024-03-08T10:02:01.329887Z",
     "shell.execute_reply": "2024-03-08T10:02:01.328879Z"
    },
    "papermill": {
     "duration": 0.046854,
     "end_time": "2024-03-08T10:02:01.332282",
     "exception": false,
     "start_time": "2024-03-08T10:02:01.285428",
     "status": "completed"
    },
    "tags": []
   },
   "outputs": [
    {
     "data": {
      "text/html": [
       "<div>\n",
       "<style scoped>\n",
       "    .dataframe tbody tr th:only-of-type {\n",
       "        vertical-align: middle;\n",
       "    }\n",
       "\n",
       "    .dataframe tbody tr th {\n",
       "        vertical-align: top;\n",
       "    }\n",
       "\n",
       "    .dataframe thead th {\n",
       "        text-align: right;\n",
       "    }\n",
       "</style>\n",
       "<table border=\"1\" class=\"dataframe\">\n",
       "  <thead>\n",
       "    <tr style=\"text-align: right;\">\n",
       "      <th></th>\n",
       "      <th>Age</th>\n",
       "      <th>Sex</th>\n",
       "      <th>ChestPainType</th>\n",
       "      <th>RestingBP</th>\n",
       "      <th>Cholesterol</th>\n",
       "      <th>FastingBS</th>\n",
       "      <th>RestingECG</th>\n",
       "      <th>MaxHR</th>\n",
       "      <th>ExerciseAngina</th>\n",
       "      <th>Oldpeak</th>\n",
       "      <th>ST_Slope</th>\n",
       "      <th>HeartDisease</th>\n",
       "    </tr>\n",
       "  </thead>\n",
       "  <tbody>\n",
       "    <tr>\n",
       "      <th>0</th>\n",
       "      <td>40</td>\n",
       "      <td>1</td>\n",
       "      <td>ATA</td>\n",
       "      <td>140</td>\n",
       "      <td>289</td>\n",
       "      <td>0</td>\n",
       "      <td>Normal</td>\n",
       "      <td>172</td>\n",
       "      <td>N</td>\n",
       "      <td>0.0</td>\n",
       "      <td>Up</td>\n",
       "      <td>0</td>\n",
       "    </tr>\n",
       "    <tr>\n",
       "      <th>1</th>\n",
       "      <td>49</td>\n",
       "      <td>0</td>\n",
       "      <td>NAP</td>\n",
       "      <td>160</td>\n",
       "      <td>180</td>\n",
       "      <td>0</td>\n",
       "      <td>Normal</td>\n",
       "      <td>156</td>\n",
       "      <td>N</td>\n",
       "      <td>1.0</td>\n",
       "      <td>Flat</td>\n",
       "      <td>1</td>\n",
       "    </tr>\n",
       "    <tr>\n",
       "      <th>2</th>\n",
       "      <td>37</td>\n",
       "      <td>1</td>\n",
       "      <td>ATA</td>\n",
       "      <td>130</td>\n",
       "      <td>283</td>\n",
       "      <td>0</td>\n",
       "      <td>ST</td>\n",
       "      <td>98</td>\n",
       "      <td>N</td>\n",
       "      <td>0.0</td>\n",
       "      <td>Up</td>\n",
       "      <td>0</td>\n",
       "    </tr>\n",
       "    <tr>\n",
       "      <th>3</th>\n",
       "      <td>48</td>\n",
       "      <td>0</td>\n",
       "      <td>ASY</td>\n",
       "      <td>138</td>\n",
       "      <td>214</td>\n",
       "      <td>0</td>\n",
       "      <td>Normal</td>\n",
       "      <td>108</td>\n",
       "      <td>Y</td>\n",
       "      <td>1.5</td>\n",
       "      <td>Flat</td>\n",
       "      <td>1</td>\n",
       "    </tr>\n",
       "    <tr>\n",
       "      <th>4</th>\n",
       "      <td>54</td>\n",
       "      <td>1</td>\n",
       "      <td>NAP</td>\n",
       "      <td>150</td>\n",
       "      <td>195</td>\n",
       "      <td>0</td>\n",
       "      <td>Normal</td>\n",
       "      <td>122</td>\n",
       "      <td>N</td>\n",
       "      <td>0.0</td>\n",
       "      <td>Up</td>\n",
       "      <td>0</td>\n",
       "    </tr>\n",
       "  </tbody>\n",
       "</table>\n",
       "</div>"
      ],
      "text/plain": [
       "   Age  Sex ChestPainType  RestingBP  Cholesterol  FastingBS RestingECG  \\\n",
       "0   40    1           ATA        140          289          0     Normal   \n",
       "1   49    0           NAP        160          180          0     Normal   \n",
       "2   37    1           ATA        130          283          0         ST   \n",
       "3   48    0           ASY        138          214          0     Normal   \n",
       "4   54    1           NAP        150          195          0     Normal   \n",
       "\n",
       "   MaxHR ExerciseAngina  Oldpeak ST_Slope  HeartDisease  \n",
       "0    172              N      0.0       Up             0  \n",
       "1    156              N      1.0     Flat             1  \n",
       "2     98              N      0.0       Up             0  \n",
       "3    108              Y      1.5     Flat             1  \n",
       "4    122              N      0.0       Up             0  "
      ]
     },
     "execution_count": 23,
     "metadata": {},
     "output_type": "execute_result"
    }
   ],
   "source": [
    "#encoding features\n",
    "le = LabelEncoder()\n",
    "df['Sex']= le.fit_transform(df['Sex'])\n",
    "df.head()"
   ]
  },
  {
   "cell_type": "markdown",
   "id": "d1151086",
   "metadata": {
    "papermill": {
     "duration": 0.023778,
     "end_time": "2024-03-08T10:02:01.380244",
     "exception": false,
     "start_time": "2024-03-08T10:02:01.356466",
     "status": "completed"
    },
    "tags": []
   },
   "source": [
    "#### BINOMIAL"
   ]
  },
  {
   "cell_type": "code",
   "execution_count": 24,
   "id": "1fa4149f",
   "metadata": {
    "execution": {
     "iopub.execute_input": "2024-03-08T10:02:01.431970Z",
     "iopub.status.busy": "2024-03-08T10:02:01.431199Z",
     "iopub.status.idle": "2024-03-08T10:02:01.448960Z",
     "shell.execute_reply": "2024-03-08T10:02:01.447681Z"
    },
    "papermill": {
     "duration": 0.046993,
     "end_time": "2024-03-08T10:02:01.451594",
     "exception": false,
     "start_time": "2024-03-08T10:02:01.404601",
     "status": "completed"
    },
    "tags": []
   },
   "outputs": [
    {
     "data": {
      "text/html": [
       "<div>\n",
       "<style scoped>\n",
       "    .dataframe tbody tr th:only-of-type {\n",
       "        vertical-align: middle;\n",
       "    }\n",
       "\n",
       "    .dataframe tbody tr th {\n",
       "        vertical-align: top;\n",
       "    }\n",
       "\n",
       "    .dataframe thead th {\n",
       "        text-align: right;\n",
       "    }\n",
       "</style>\n",
       "<table border=\"1\" class=\"dataframe\">\n",
       "  <thead>\n",
       "    <tr style=\"text-align: right;\">\n",
       "      <th></th>\n",
       "      <th>Age</th>\n",
       "      <th>Sex</th>\n",
       "      <th>ChestPainType</th>\n",
       "      <th>RestingBP</th>\n",
       "      <th>Cholesterol</th>\n",
       "      <th>FastingBS</th>\n",
       "      <th>RestingECG</th>\n",
       "      <th>MaxHR</th>\n",
       "      <th>ExerciseAngina</th>\n",
       "      <th>Oldpeak</th>\n",
       "      <th>ST_Slope</th>\n",
       "      <th>HeartDisease</th>\n",
       "    </tr>\n",
       "  </thead>\n",
       "  <tbody>\n",
       "    <tr>\n",
       "      <th>0</th>\n",
       "      <td>40</td>\n",
       "      <td>1</td>\n",
       "      <td>ATA</td>\n",
       "      <td>140</td>\n",
       "      <td>289</td>\n",
       "      <td>0</td>\n",
       "      <td>Normal</td>\n",
       "      <td>172</td>\n",
       "      <td>0</td>\n",
       "      <td>0.0</td>\n",
       "      <td>Up</td>\n",
       "      <td>0</td>\n",
       "    </tr>\n",
       "    <tr>\n",
       "      <th>1</th>\n",
       "      <td>49</td>\n",
       "      <td>0</td>\n",
       "      <td>NAP</td>\n",
       "      <td>160</td>\n",
       "      <td>180</td>\n",
       "      <td>0</td>\n",
       "      <td>Normal</td>\n",
       "      <td>156</td>\n",
       "      <td>0</td>\n",
       "      <td>1.0</td>\n",
       "      <td>Flat</td>\n",
       "      <td>1</td>\n",
       "    </tr>\n",
       "    <tr>\n",
       "      <th>2</th>\n",
       "      <td>37</td>\n",
       "      <td>1</td>\n",
       "      <td>ATA</td>\n",
       "      <td>130</td>\n",
       "      <td>283</td>\n",
       "      <td>0</td>\n",
       "      <td>ST</td>\n",
       "      <td>98</td>\n",
       "      <td>0</td>\n",
       "      <td>0.0</td>\n",
       "      <td>Up</td>\n",
       "      <td>0</td>\n",
       "    </tr>\n",
       "    <tr>\n",
       "      <th>3</th>\n",
       "      <td>48</td>\n",
       "      <td>0</td>\n",
       "      <td>ASY</td>\n",
       "      <td>138</td>\n",
       "      <td>214</td>\n",
       "      <td>0</td>\n",
       "      <td>Normal</td>\n",
       "      <td>108</td>\n",
       "      <td>1</td>\n",
       "      <td>1.5</td>\n",
       "      <td>Flat</td>\n",
       "      <td>1</td>\n",
       "    </tr>\n",
       "    <tr>\n",
       "      <th>4</th>\n",
       "      <td>54</td>\n",
       "      <td>1</td>\n",
       "      <td>NAP</td>\n",
       "      <td>150</td>\n",
       "      <td>195</td>\n",
       "      <td>0</td>\n",
       "      <td>Normal</td>\n",
       "      <td>122</td>\n",
       "      <td>0</td>\n",
       "      <td>0.0</td>\n",
       "      <td>Up</td>\n",
       "      <td>0</td>\n",
       "    </tr>\n",
       "  </tbody>\n",
       "</table>\n",
       "</div>"
      ],
      "text/plain": [
       "   Age  Sex ChestPainType  RestingBP  Cholesterol  FastingBS RestingECG  \\\n",
       "0   40    1           ATA        140          289          0     Normal   \n",
       "1   49    0           NAP        160          180          0     Normal   \n",
       "2   37    1           ATA        130          283          0         ST   \n",
       "3   48    0           ASY        138          214          0     Normal   \n",
       "4   54    1           NAP        150          195          0     Normal   \n",
       "\n",
       "   MaxHR  ExerciseAngina  Oldpeak ST_Slope  HeartDisease  \n",
       "0    172               0      0.0       Up             0  \n",
       "1    156               0      1.0     Flat             1  \n",
       "2     98               0      0.0       Up             0  \n",
       "3    108               1      1.5     Flat             1  \n",
       "4    122               0      0.0       Up             0  "
      ]
     },
     "execution_count": 24,
     "metadata": {},
     "output_type": "execute_result"
    }
   ],
   "source": [
    "df['ExerciseAngina']= le.fit_transform(df['ExerciseAngina'])\n",
    "df.head()"
   ]
  },
  {
   "cell_type": "markdown",
   "id": "00a7ae8e",
   "metadata": {
    "papermill": {
     "duration": 0.024894,
     "end_time": "2024-03-08T10:02:01.504013",
     "exception": false,
     "start_time": "2024-03-08T10:02:01.479119",
     "status": "completed"
    },
    "tags": []
   },
   "source": [
    "#### ORDINAL\n"
   ]
  },
  {
   "cell_type": "code",
   "execution_count": 25,
   "id": "633c34e7",
   "metadata": {
    "execution": {
     "iopub.execute_input": "2024-03-08T10:02:01.555782Z",
     "iopub.status.busy": "2024-03-08T10:02:01.554640Z",
     "iopub.status.idle": "2024-03-08T10:02:01.568674Z",
     "shell.execute_reply": "2024-03-08T10:02:01.567461Z"
    },
    "papermill": {
     "duration": 0.043071,
     "end_time": "2024-03-08T10:02:01.571434",
     "exception": false,
     "start_time": "2024-03-08T10:02:01.528363",
     "status": "completed"
    },
    "tags": []
   },
   "outputs": [
    {
     "data": {
      "text/html": [
       "<div>\n",
       "<style scoped>\n",
       "    .dataframe tbody tr th:only-of-type {\n",
       "        vertical-align: middle;\n",
       "    }\n",
       "\n",
       "    .dataframe tbody tr th {\n",
       "        vertical-align: top;\n",
       "    }\n",
       "\n",
       "    .dataframe thead th {\n",
       "        text-align: right;\n",
       "    }\n",
       "</style>\n",
       "<table border=\"1\" class=\"dataframe\">\n",
       "  <thead>\n",
       "    <tr style=\"text-align: right;\">\n",
       "      <th></th>\n",
       "      <th>RestingECG_Normal</th>\n",
       "      <th>RestingECG_ST</th>\n",
       "    </tr>\n",
       "  </thead>\n",
       "  <tbody>\n",
       "    <tr>\n",
       "      <th>0</th>\n",
       "      <td>1</td>\n",
       "      <td>0</td>\n",
       "    </tr>\n",
       "    <tr>\n",
       "      <th>1</th>\n",
       "      <td>1</td>\n",
       "      <td>0</td>\n",
       "    </tr>\n",
       "    <tr>\n",
       "      <th>2</th>\n",
       "      <td>0</td>\n",
       "      <td>1</td>\n",
       "    </tr>\n",
       "    <tr>\n",
       "      <th>3</th>\n",
       "      <td>1</td>\n",
       "      <td>0</td>\n",
       "    </tr>\n",
       "    <tr>\n",
       "      <th>4</th>\n",
       "      <td>1</td>\n",
       "      <td>0</td>\n",
       "    </tr>\n",
       "  </tbody>\n",
       "</table>\n",
       "</div>"
      ],
      "text/plain": [
       "   RestingECG_Normal  RestingECG_ST\n",
       "0                  1              0\n",
       "1                  1              0\n",
       "2                  0              1\n",
       "3                  1              0\n",
       "4                  1              0"
      ]
     },
     "execution_count": 25,
     "metadata": {},
     "output_type": "execute_result"
    }
   ],
   "source": [
    "restecg = pd.get_dummies(df['RestingECG'],prefix='RestingECG',drop_first = True).astype(int)\n",
    "restecg.head()"
   ]
  },
  {
   "cell_type": "markdown",
   "id": "2b1ff649",
   "metadata": {
    "papermill": {
     "duration": 0.024425,
     "end_time": "2024-03-08T10:02:01.622283",
     "exception": false,
     "start_time": "2024-03-08T10:02:01.597858",
     "status": "completed"
    },
    "tags": []
   },
   "source": [
    "#### ORDINAL"
   ]
  },
  {
   "cell_type": "code",
   "execution_count": 26,
   "id": "66d1ca11",
   "metadata": {
    "execution": {
     "iopub.execute_input": "2024-03-08T10:02:01.675567Z",
     "iopub.status.busy": "2024-03-08T10:02:01.674735Z",
     "iopub.status.idle": "2024-03-08T10:02:01.690213Z",
     "shell.execute_reply": "2024-03-08T10:02:01.688754Z"
    },
    "papermill": {
     "duration": 0.045217,
     "end_time": "2024-03-08T10:02:01.693528",
     "exception": false,
     "start_time": "2024-03-08T10:02:01.648311",
     "status": "completed"
    },
    "tags": []
   },
   "outputs": [
    {
     "data": {
      "text/html": [
       "<div>\n",
       "<style scoped>\n",
       "    .dataframe tbody tr th:only-of-type {\n",
       "        vertical-align: middle;\n",
       "    }\n",
       "\n",
       "    .dataframe tbody tr th {\n",
       "        vertical-align: top;\n",
       "    }\n",
       "\n",
       "    .dataframe thead th {\n",
       "        text-align: right;\n",
       "    }\n",
       "</style>\n",
       "<table border=\"1\" class=\"dataframe\">\n",
       "  <thead>\n",
       "    <tr style=\"text-align: right;\">\n",
       "      <th></th>\n",
       "      <th>ST_Slope_Flat</th>\n",
       "      <th>ST_Slope_Up</th>\n",
       "    </tr>\n",
       "  </thead>\n",
       "  <tbody>\n",
       "    <tr>\n",
       "      <th>0</th>\n",
       "      <td>0</td>\n",
       "      <td>1</td>\n",
       "    </tr>\n",
       "    <tr>\n",
       "      <th>1</th>\n",
       "      <td>1</td>\n",
       "      <td>0</td>\n",
       "    </tr>\n",
       "    <tr>\n",
       "      <th>2</th>\n",
       "      <td>0</td>\n",
       "      <td>1</td>\n",
       "    </tr>\n",
       "    <tr>\n",
       "      <th>3</th>\n",
       "      <td>1</td>\n",
       "      <td>0</td>\n",
       "    </tr>\n",
       "    <tr>\n",
       "      <th>4</th>\n",
       "      <td>0</td>\n",
       "      <td>1</td>\n",
       "    </tr>\n",
       "  </tbody>\n",
       "</table>\n",
       "</div>"
      ],
      "text/plain": [
       "   ST_Slope_Flat  ST_Slope_Up\n",
       "0              0            1\n",
       "1              1            0\n",
       "2              0            1\n",
       "3              1            0\n",
       "4              0            1"
      ]
     },
     "execution_count": 26,
     "metadata": {},
     "output_type": "execute_result"
    }
   ],
   "source": [
    "ST_Slope = pd.get_dummies(df['ST_Slope'],prefix='ST_Slope',drop_first = True).astype(int)\n",
    "ST_Slope.head()"
   ]
  },
  {
   "cell_type": "code",
   "execution_count": 27,
   "id": "d5ed4504",
   "metadata": {
    "execution": {
     "iopub.execute_input": "2024-03-08T10:02:01.749108Z",
     "iopub.status.busy": "2024-03-08T10:02:01.748681Z",
     "iopub.status.idle": "2024-03-08T10:02:01.762645Z",
     "shell.execute_reply": "2024-03-08T10:02:01.760922Z"
    },
    "papermill": {
     "duration": 0.042738,
     "end_time": "2024-03-08T10:02:01.765199",
     "exception": false,
     "start_time": "2024-03-08T10:02:01.722461",
     "status": "completed"
    },
    "tags": []
   },
   "outputs": [
    {
     "data": {
      "text/html": [
       "<div>\n",
       "<style scoped>\n",
       "    .dataframe tbody tr th:only-of-type {\n",
       "        vertical-align: middle;\n",
       "    }\n",
       "\n",
       "    .dataframe tbody tr th {\n",
       "        vertical-align: top;\n",
       "    }\n",
       "\n",
       "    .dataframe thead th {\n",
       "        text-align: right;\n",
       "    }\n",
       "</style>\n",
       "<table border=\"1\" class=\"dataframe\">\n",
       "  <thead>\n",
       "    <tr style=\"text-align: right;\">\n",
       "      <th></th>\n",
       "      <th>ChestPainType_ATA</th>\n",
       "      <th>ChestPainType_NAP</th>\n",
       "      <th>ChestPainType_TA</th>\n",
       "    </tr>\n",
       "  </thead>\n",
       "  <tbody>\n",
       "    <tr>\n",
       "      <th>0</th>\n",
       "      <td>1</td>\n",
       "      <td>0</td>\n",
       "      <td>0</td>\n",
       "    </tr>\n",
       "    <tr>\n",
       "      <th>1</th>\n",
       "      <td>0</td>\n",
       "      <td>1</td>\n",
       "      <td>0</td>\n",
       "    </tr>\n",
       "    <tr>\n",
       "      <th>2</th>\n",
       "      <td>1</td>\n",
       "      <td>0</td>\n",
       "      <td>0</td>\n",
       "    </tr>\n",
       "    <tr>\n",
       "      <th>3</th>\n",
       "      <td>0</td>\n",
       "      <td>0</td>\n",
       "      <td>0</td>\n",
       "    </tr>\n",
       "    <tr>\n",
       "      <th>4</th>\n",
       "      <td>0</td>\n",
       "      <td>1</td>\n",
       "      <td>0</td>\n",
       "    </tr>\n",
       "  </tbody>\n",
       "</table>\n",
       "</div>"
      ],
      "text/plain": [
       "   ChestPainType_ATA  ChestPainType_NAP  ChestPainType_TA\n",
       "0                  1                  0                 0\n",
       "1                  0                  1                 0\n",
       "2                  1                  0                 0\n",
       "3                  0                  0                 0\n",
       "4                  0                  1                 0"
      ]
     },
     "execution_count": 27,
     "metadata": {},
     "output_type": "execute_result"
    }
   ],
   "source": [
    "ChestPainType = pd.get_dummies(df['ChestPainType'],prefix='ChestPainType',drop_first = True).astype(int)\n",
    "ChestPainType.head()"
   ]
  },
  {
   "cell_type": "code",
   "execution_count": 28,
   "id": "b25def5f",
   "metadata": {
    "execution": {
     "iopub.execute_input": "2024-03-08T10:02:01.828375Z",
     "iopub.status.busy": "2024-03-08T10:02:01.827442Z",
     "iopub.status.idle": "2024-03-08T10:02:01.835213Z",
     "shell.execute_reply": "2024-03-08T10:02:01.833844Z"
    },
    "papermill": {
     "duration": 0.042915,
     "end_time": "2024-03-08T10:02:01.838099",
     "exception": false,
     "start_time": "2024-03-08T10:02:01.795184",
     "status": "completed"
    },
    "tags": []
   },
   "outputs": [],
   "source": [
    "df.drop(['ChestPainType','ST_Slope','RestingECG'],axis= 1,inplace = True)"
   ]
  },
  {
   "cell_type": "code",
   "execution_count": 29,
   "id": "33a0e7d5",
   "metadata": {
    "execution": {
     "iopub.execute_input": "2024-03-08T10:02:01.894369Z",
     "iopub.status.busy": "2024-03-08T10:02:01.893917Z",
     "iopub.status.idle": "2024-03-08T10:02:01.915040Z",
     "shell.execute_reply": "2024-03-08T10:02:01.913398Z"
    },
    "papermill": {
     "duration": 0.051285,
     "end_time": "2024-03-08T10:02:01.918285",
     "exception": false,
     "start_time": "2024-03-08T10:02:01.867000",
     "status": "completed"
    },
    "tags": []
   },
   "outputs": [
    {
     "data": {
      "text/html": [
       "<div>\n",
       "<style scoped>\n",
       "    .dataframe tbody tr th:only-of-type {\n",
       "        vertical-align: middle;\n",
       "    }\n",
       "\n",
       "    .dataframe tbody tr th {\n",
       "        vertical-align: top;\n",
       "    }\n",
       "\n",
       "    .dataframe thead th {\n",
       "        text-align: right;\n",
       "    }\n",
       "</style>\n",
       "<table border=\"1\" class=\"dataframe\">\n",
       "  <thead>\n",
       "    <tr style=\"text-align: right;\">\n",
       "      <th></th>\n",
       "      <th>Age</th>\n",
       "      <th>Sex</th>\n",
       "      <th>RestingBP</th>\n",
       "      <th>Cholesterol</th>\n",
       "      <th>FastingBS</th>\n",
       "      <th>MaxHR</th>\n",
       "      <th>ExerciseAngina</th>\n",
       "      <th>Oldpeak</th>\n",
       "      <th>HeartDisease</th>\n",
       "      <th>ChestPainType_ATA</th>\n",
       "      <th>ChestPainType_NAP</th>\n",
       "      <th>ChestPainType_TA</th>\n",
       "      <th>ST_Slope_Flat</th>\n",
       "      <th>ST_Slope_Up</th>\n",
       "      <th>RestingECG_Normal</th>\n",
       "      <th>RestingECG_ST</th>\n",
       "    </tr>\n",
       "  </thead>\n",
       "  <tbody>\n",
       "    <tr>\n",
       "      <th>0</th>\n",
       "      <td>40</td>\n",
       "      <td>1</td>\n",
       "      <td>140</td>\n",
       "      <td>289</td>\n",
       "      <td>0</td>\n",
       "      <td>172</td>\n",
       "      <td>0</td>\n",
       "      <td>0.0</td>\n",
       "      <td>0</td>\n",
       "      <td>1</td>\n",
       "      <td>0</td>\n",
       "      <td>0</td>\n",
       "      <td>0</td>\n",
       "      <td>1</td>\n",
       "      <td>1</td>\n",
       "      <td>0</td>\n",
       "    </tr>\n",
       "    <tr>\n",
       "      <th>1</th>\n",
       "      <td>49</td>\n",
       "      <td>0</td>\n",
       "      <td>160</td>\n",
       "      <td>180</td>\n",
       "      <td>0</td>\n",
       "      <td>156</td>\n",
       "      <td>0</td>\n",
       "      <td>1.0</td>\n",
       "      <td>1</td>\n",
       "      <td>0</td>\n",
       "      <td>1</td>\n",
       "      <td>0</td>\n",
       "      <td>1</td>\n",
       "      <td>0</td>\n",
       "      <td>1</td>\n",
       "      <td>0</td>\n",
       "    </tr>\n",
       "    <tr>\n",
       "      <th>2</th>\n",
       "      <td>37</td>\n",
       "      <td>1</td>\n",
       "      <td>130</td>\n",
       "      <td>283</td>\n",
       "      <td>0</td>\n",
       "      <td>98</td>\n",
       "      <td>0</td>\n",
       "      <td>0.0</td>\n",
       "      <td>0</td>\n",
       "      <td>1</td>\n",
       "      <td>0</td>\n",
       "      <td>0</td>\n",
       "      <td>0</td>\n",
       "      <td>1</td>\n",
       "      <td>0</td>\n",
       "      <td>1</td>\n",
       "    </tr>\n",
       "    <tr>\n",
       "      <th>3</th>\n",
       "      <td>48</td>\n",
       "      <td>0</td>\n",
       "      <td>138</td>\n",
       "      <td>214</td>\n",
       "      <td>0</td>\n",
       "      <td>108</td>\n",
       "      <td>1</td>\n",
       "      <td>1.5</td>\n",
       "      <td>1</td>\n",
       "      <td>0</td>\n",
       "      <td>0</td>\n",
       "      <td>0</td>\n",
       "      <td>1</td>\n",
       "      <td>0</td>\n",
       "      <td>1</td>\n",
       "      <td>0</td>\n",
       "    </tr>\n",
       "    <tr>\n",
       "      <th>4</th>\n",
       "      <td>54</td>\n",
       "      <td>1</td>\n",
       "      <td>150</td>\n",
       "      <td>195</td>\n",
       "      <td>0</td>\n",
       "      <td>122</td>\n",
       "      <td>0</td>\n",
       "      <td>0.0</td>\n",
       "      <td>0</td>\n",
       "      <td>0</td>\n",
       "      <td>1</td>\n",
       "      <td>0</td>\n",
       "      <td>0</td>\n",
       "      <td>1</td>\n",
       "      <td>1</td>\n",
       "      <td>0</td>\n",
       "    </tr>\n",
       "  </tbody>\n",
       "</table>\n",
       "</div>"
      ],
      "text/plain": [
       "   Age  Sex  RestingBP  Cholesterol  FastingBS  MaxHR  ExerciseAngina  \\\n",
       "0   40    1        140          289          0    172               0   \n",
       "1   49    0        160          180          0    156               0   \n",
       "2   37    1        130          283          0     98               0   \n",
       "3   48    0        138          214          0    108               1   \n",
       "4   54    1        150          195          0    122               0   \n",
       "\n",
       "   Oldpeak  HeartDisease  ChestPainType_ATA  ChestPainType_NAP  \\\n",
       "0      0.0             0                  1                  0   \n",
       "1      1.0             1                  0                  1   \n",
       "2      0.0             0                  1                  0   \n",
       "3      1.5             1                  0                  0   \n",
       "4      0.0             0                  0                  1   \n",
       "\n",
       "   ChestPainType_TA  ST_Slope_Flat  ST_Slope_Up  RestingECG_Normal  \\\n",
       "0                 0              0            1                  1   \n",
       "1                 0              1            0                  1   \n",
       "2                 0              0            1                  0   \n",
       "3                 0              1            0                  1   \n",
       "4                 0              0            1                  1   \n",
       "\n",
       "   RestingECG_ST  \n",
       "0              0  \n",
       "1              0  \n",
       "2              1  \n",
       "3              0  \n",
       "4              0  "
      ]
     },
     "execution_count": 29,
     "metadata": {},
     "output_type": "execute_result"
    }
   ],
   "source": [
    "df11 = pd.concat([df,ChestPainType,ST_Slope,restecg],axis=1)\n",
    "df11.head()"
   ]
  },
  {
   "cell_type": "code",
   "execution_count": 30,
   "id": "bd86dd38",
   "metadata": {
    "execution": {
     "iopub.execute_input": "2024-03-08T10:02:01.978485Z",
     "iopub.status.busy": "2024-03-08T10:02:01.978056Z",
     "iopub.status.idle": "2024-03-08T10:02:01.999115Z",
     "shell.execute_reply": "2024-03-08T10:02:01.997565Z"
    },
    "papermill": {
     "duration": 0.053079,
     "end_time": "2024-03-08T10:02:02.001961",
     "exception": false,
     "start_time": "2024-03-08T10:02:01.948882",
     "status": "completed"
    },
    "tags": []
   },
   "outputs": [
    {
     "data": {
      "text/html": [
       "<div>\n",
       "<style scoped>\n",
       "    .dataframe tbody tr th:only-of-type {\n",
       "        vertical-align: middle;\n",
       "    }\n",
       "\n",
       "    .dataframe tbody tr th {\n",
       "        vertical-align: top;\n",
       "    }\n",
       "\n",
       "    .dataframe thead th {\n",
       "        text-align: right;\n",
       "    }\n",
       "</style>\n",
       "<table border=\"1\" class=\"dataframe\">\n",
       "  <thead>\n",
       "    <tr style=\"text-align: right;\">\n",
       "      <th></th>\n",
       "      <th>Age</th>\n",
       "      <th>Sex</th>\n",
       "      <th>RestingBP</th>\n",
       "      <th>Cholesterol</th>\n",
       "      <th>FastingBS</th>\n",
       "      <th>MaxHR</th>\n",
       "      <th>ExerciseAngina</th>\n",
       "      <th>Oldpeak</th>\n",
       "      <th>ChestPainType_ATA</th>\n",
       "      <th>ChestPainType_NAP</th>\n",
       "      <th>ChestPainType_TA</th>\n",
       "      <th>ST_Slope_Flat</th>\n",
       "      <th>ST_Slope_Up</th>\n",
       "      <th>RestingECG_Normal</th>\n",
       "      <th>RestingECG_ST</th>\n",
       "    </tr>\n",
       "  </thead>\n",
       "  <tbody>\n",
       "    <tr>\n",
       "      <th>0</th>\n",
       "      <td>40</td>\n",
       "      <td>1</td>\n",
       "      <td>140</td>\n",
       "      <td>289</td>\n",
       "      <td>0</td>\n",
       "      <td>172</td>\n",
       "      <td>0</td>\n",
       "      <td>0.0</td>\n",
       "      <td>1</td>\n",
       "      <td>0</td>\n",
       "      <td>0</td>\n",
       "      <td>0</td>\n",
       "      <td>1</td>\n",
       "      <td>1</td>\n",
       "      <td>0</td>\n",
       "    </tr>\n",
       "    <tr>\n",
       "      <th>1</th>\n",
       "      <td>49</td>\n",
       "      <td>0</td>\n",
       "      <td>160</td>\n",
       "      <td>180</td>\n",
       "      <td>0</td>\n",
       "      <td>156</td>\n",
       "      <td>0</td>\n",
       "      <td>1.0</td>\n",
       "      <td>0</td>\n",
       "      <td>1</td>\n",
       "      <td>0</td>\n",
       "      <td>1</td>\n",
       "      <td>0</td>\n",
       "      <td>1</td>\n",
       "      <td>0</td>\n",
       "    </tr>\n",
       "    <tr>\n",
       "      <th>2</th>\n",
       "      <td>37</td>\n",
       "      <td>1</td>\n",
       "      <td>130</td>\n",
       "      <td>283</td>\n",
       "      <td>0</td>\n",
       "      <td>98</td>\n",
       "      <td>0</td>\n",
       "      <td>0.0</td>\n",
       "      <td>1</td>\n",
       "      <td>0</td>\n",
       "      <td>0</td>\n",
       "      <td>0</td>\n",
       "      <td>1</td>\n",
       "      <td>0</td>\n",
       "      <td>1</td>\n",
       "    </tr>\n",
       "    <tr>\n",
       "      <th>3</th>\n",
       "      <td>48</td>\n",
       "      <td>0</td>\n",
       "      <td>138</td>\n",
       "      <td>214</td>\n",
       "      <td>0</td>\n",
       "      <td>108</td>\n",
       "      <td>1</td>\n",
       "      <td>1.5</td>\n",
       "      <td>0</td>\n",
       "      <td>0</td>\n",
       "      <td>0</td>\n",
       "      <td>1</td>\n",
       "      <td>0</td>\n",
       "      <td>1</td>\n",
       "      <td>0</td>\n",
       "    </tr>\n",
       "    <tr>\n",
       "      <th>4</th>\n",
       "      <td>54</td>\n",
       "      <td>1</td>\n",
       "      <td>150</td>\n",
       "      <td>195</td>\n",
       "      <td>0</td>\n",
       "      <td>122</td>\n",
       "      <td>0</td>\n",
       "      <td>0.0</td>\n",
       "      <td>0</td>\n",
       "      <td>1</td>\n",
       "      <td>0</td>\n",
       "      <td>0</td>\n",
       "      <td>1</td>\n",
       "      <td>1</td>\n",
       "      <td>0</td>\n",
       "    </tr>\n",
       "  </tbody>\n",
       "</table>\n",
       "</div>"
      ],
      "text/plain": [
       "   Age  Sex  RestingBP  Cholesterol  FastingBS  MaxHR  ExerciseAngina  \\\n",
       "0   40    1        140          289          0    172               0   \n",
       "1   49    0        160          180          0    156               0   \n",
       "2   37    1        130          283          0     98               0   \n",
       "3   48    0        138          214          0    108               1   \n",
       "4   54    1        150          195          0    122               0   \n",
       "\n",
       "   Oldpeak  ChestPainType_ATA  ChestPainType_NAP  ChestPainType_TA  \\\n",
       "0      0.0                  1                  0                 0   \n",
       "1      1.0                  0                  1                 0   \n",
       "2      0.0                  1                  0                 0   \n",
       "3      1.5                  0                  0                 0   \n",
       "4      0.0                  0                  1                 0   \n",
       "\n",
       "   ST_Slope_Flat  ST_Slope_Up  RestingECG_Normal  RestingECG_ST  \n",
       "0              0            1                  1              0  \n",
       "1              1            0                  1              0  \n",
       "2              0            1                  0              1  \n",
       "3              1            0                  1              0  \n",
       "4              0            1                  1              0  "
      ]
     },
     "execution_count": 30,
     "metadata": {},
     "output_type": "execute_result"
    }
   ],
   "source": [
    "X = df11.drop(['HeartDisease'], axis=1)\n",
    "y = df11['HeartDisease']\n",
    "X.head()"
   ]
  },
  {
   "cell_type": "markdown",
   "id": "d5b2b5aa",
   "metadata": {
    "papermill": {
     "duration": 0.027023,
     "end_time": "2024-03-08T10:02:02.060075",
     "exception": false,
     "start_time": "2024-03-08T10:02:02.033052",
     "status": "completed"
    },
    "tags": []
   },
   "source": []
  },
  {
   "cell_type": "code",
   "execution_count": 31,
   "id": "1dcc2995",
   "metadata": {
    "execution": {
     "iopub.execute_input": "2024-03-08T10:02:02.115288Z",
     "iopub.status.busy": "2024-03-08T10:02:02.114167Z",
     "iopub.status.idle": "2024-03-08T10:02:02.126250Z",
     "shell.execute_reply": "2024-03-08T10:02:02.124925Z"
    },
    "papermill": {
     "duration": 0.043414,
     "end_time": "2024-03-08T10:02:02.129630",
     "exception": false,
     "start_time": "2024-03-08T10:02:02.086216",
     "status": "completed"
    },
    "tags": []
   },
   "outputs": [],
   "source": [
    "#  splitting the dat set\n",
    "X_train,X_test,y_train,y_test = train_test_split(X,y ,test_size=0.20,random_state=42,stratify =y)"
   ]
  },
  {
   "cell_type": "code",
   "execution_count": 32,
   "id": "6e1920c3",
   "metadata": {
    "execution": {
     "iopub.execute_input": "2024-03-08T10:02:02.192268Z",
     "iopub.status.busy": "2024-03-08T10:02:02.191828Z",
     "iopub.status.idle": "2024-03-08T10:02:02.231607Z",
     "shell.execute_reply": "2024-03-08T10:02:02.230283Z"
    },
    "papermill": {
     "duration": 0.076588,
     "end_time": "2024-03-08T10:02:02.234407",
     "exception": false,
     "start_time": "2024-03-08T10:02:02.157819",
     "status": "completed"
    },
    "tags": []
   },
   "outputs": [
    {
     "data": {
      "text/html": [
       "<div>\n",
       "<style scoped>\n",
       "    .dataframe tbody tr th:only-of-type {\n",
       "        vertical-align: middle;\n",
       "    }\n",
       "\n",
       "    .dataframe tbody tr th {\n",
       "        vertical-align: top;\n",
       "    }\n",
       "\n",
       "    .dataframe thead th {\n",
       "        text-align: right;\n",
       "    }\n",
       "</style>\n",
       "<table border=\"1\" class=\"dataframe\">\n",
       "  <thead>\n",
       "    <tr style=\"text-align: right;\">\n",
       "      <th></th>\n",
       "      <th>Age</th>\n",
       "      <th>Sex</th>\n",
       "      <th>RestingBP</th>\n",
       "      <th>Cholesterol</th>\n",
       "      <th>FastingBS</th>\n",
       "      <th>MaxHR</th>\n",
       "      <th>ExerciseAngina</th>\n",
       "      <th>Oldpeak</th>\n",
       "      <th>ChestPainType_ATA</th>\n",
       "      <th>ChestPainType_NAP</th>\n",
       "      <th>ChestPainType_TA</th>\n",
       "      <th>ST_Slope_Flat</th>\n",
       "      <th>ST_Slope_Up</th>\n",
       "      <th>RestingECG_Normal</th>\n",
       "      <th>RestingECG_ST</th>\n",
       "    </tr>\n",
       "  </thead>\n",
       "  <tbody>\n",
       "    <tr>\n",
       "      <th>0</th>\n",
       "      <td>0.970012</td>\n",
       "      <td>0.51740</td>\n",
       "      <td>0.339016</td>\n",
       "      <td>0.127137</td>\n",
       "      <td>1.835497</td>\n",
       "      <td>-0.324520</td>\n",
       "      <td>1.202775</td>\n",
       "      <td>0.317046</td>\n",
       "      <td>2.096917</td>\n",
       "      <td>-0.5174</td>\n",
       "      <td>-0.240077</td>\n",
       "      <td>0.981105</td>\n",
       "      <td>-0.862246</td>\n",
       "      <td>-1.247995</td>\n",
       "      <td>2.050774</td>\n",
       "    </tr>\n",
       "    <tr>\n",
       "      <th>1</th>\n",
       "      <td>0.122028</td>\n",
       "      <td>0.51740</td>\n",
       "      <td>-1.266031</td>\n",
       "      <td>0.099443</td>\n",
       "      <td>1.835497</td>\n",
       "      <td>1.689837</td>\n",
       "      <td>-0.831411</td>\n",
       "      <td>-0.440356</td>\n",
       "      <td>2.096917</td>\n",
       "      <td>-0.5174</td>\n",
       "      <td>-0.240077</td>\n",
       "      <td>-1.019259</td>\n",
       "      <td>1.159762</td>\n",
       "      <td>-1.247995</td>\n",
       "      <td>2.050774</td>\n",
       "    </tr>\n",
       "    <tr>\n",
       "      <th>2</th>\n",
       "      <td>0.546020</td>\n",
       "      <td>-1.93274</td>\n",
       "      <td>-0.159102</td>\n",
       "      <td>1.244113</td>\n",
       "      <td>1.835497</td>\n",
       "      <td>-0.247045</td>\n",
       "      <td>1.202775</td>\n",
       "      <td>0.601071</td>\n",
       "      <td>-0.476891</td>\n",
       "      <td>-0.5174</td>\n",
       "      <td>-0.240077</td>\n",
       "      <td>0.981105</td>\n",
       "      <td>-0.862246</td>\n",
       "      <td>-1.247995</td>\n",
       "      <td>2.050774</td>\n",
       "    </tr>\n",
       "    <tr>\n",
       "      <th>3</th>\n",
       "      <td>-0.725956</td>\n",
       "      <td>0.51740</td>\n",
       "      <td>1.501291</td>\n",
       "      <td>-1.876035</td>\n",
       "      <td>-0.544812</td>\n",
       "      <td>-0.479470</td>\n",
       "      <td>1.202775</td>\n",
       "      <td>-0.819056</td>\n",
       "      <td>-0.476891</td>\n",
       "      <td>-0.5174</td>\n",
       "      <td>-0.240077</td>\n",
       "      <td>0.981105</td>\n",
       "      <td>-0.862246</td>\n",
       "      <td>0.801285</td>\n",
       "      <td>-0.487621</td>\n",
       "    </tr>\n",
       "    <tr>\n",
       "      <th>4</th>\n",
       "      <td>-0.407962</td>\n",
       "      <td>0.51740</td>\n",
       "      <td>0.671094</td>\n",
       "      <td>-1.876035</td>\n",
       "      <td>1.835497</td>\n",
       "      <td>0.101594</td>\n",
       "      <td>1.202775</td>\n",
       "      <td>-0.156330</td>\n",
       "      <td>-0.476891</td>\n",
       "      <td>-0.5174</td>\n",
       "      <td>-0.240077</td>\n",
       "      <td>0.981105</td>\n",
       "      <td>-0.862246</td>\n",
       "      <td>0.801285</td>\n",
       "      <td>-0.487621</td>\n",
       "    </tr>\n",
       "  </tbody>\n",
       "</table>\n",
       "</div>"
      ],
      "text/plain": [
       "        Age      Sex  RestingBP  Cholesterol  FastingBS     MaxHR  \\\n",
       "0  0.970012  0.51740   0.339016     0.127137   1.835497 -0.324520   \n",
       "1  0.122028  0.51740  -1.266031     0.099443   1.835497  1.689837   \n",
       "2  0.546020 -1.93274  -0.159102     1.244113   1.835497 -0.247045   \n",
       "3 -0.725956  0.51740   1.501291    -1.876035  -0.544812 -0.479470   \n",
       "4 -0.407962  0.51740   0.671094    -1.876035   1.835497  0.101594   \n",
       "\n",
       "   ExerciseAngina   Oldpeak  ChestPainType_ATA  ChestPainType_NAP  \\\n",
       "0        1.202775  0.317046           2.096917            -0.5174   \n",
       "1       -0.831411 -0.440356           2.096917            -0.5174   \n",
       "2        1.202775  0.601071          -0.476891            -0.5174   \n",
       "3        1.202775 -0.819056          -0.476891            -0.5174   \n",
       "4        1.202775 -0.156330          -0.476891            -0.5174   \n",
       "\n",
       "   ChestPainType_TA  ST_Slope_Flat  ST_Slope_Up  RestingECG_Normal  \\\n",
       "0         -0.240077       0.981105    -0.862246          -1.247995   \n",
       "1         -0.240077      -1.019259     1.159762          -1.247995   \n",
       "2         -0.240077       0.981105    -0.862246          -1.247995   \n",
       "3         -0.240077       0.981105    -0.862246           0.801285   \n",
       "4         -0.240077       0.981105    -0.862246           0.801285   \n",
       "\n",
       "   RestingECG_ST  \n",
       "0       2.050774  \n",
       "1       2.050774  \n",
       "2       2.050774  \n",
       "3      -0.487621  \n",
       "4      -0.487621  "
      ]
     },
     "execution_count": 32,
     "metadata": {},
     "output_type": "execute_result"
    }
   ],
   "source": [
    "scaler = StandardScaler()\n",
    "X_train_scaled = pd.DataFrame(scaler.fit_transform(X_train),columns=X_train.columns)\n",
    "X_test_scaled = pd.DataFrame(scaler.transform(X_test), columns = X_test.columns)\n",
    "X_train_scaled.head()"
   ]
  },
  {
   "cell_type": "markdown",
   "id": "ec9ac930",
   "metadata": {
    "papermill": {
     "duration": 0.030219,
     "end_time": "2024-03-08T10:02:02.296005",
     "exception": false,
     "start_time": "2024-03-08T10:02:02.265786",
     "status": "completed"
    },
    "tags": []
   },
   "source": [
    "### MODELLING "
   ]
  },
  {
   "cell_type": "markdown",
   "id": "458f1b91",
   "metadata": {
    "papermill": {
     "duration": 0.030177,
     "end_time": "2024-03-08T10:02:02.357244",
     "exception": false,
     "start_time": "2024-03-08T10:02:02.327067",
     "status": "completed"
    },
    "tags": []
   },
   "source": []
  },
  {
   "cell_type": "code",
   "execution_count": 33,
   "id": "676bd4d7",
   "metadata": {
    "execution": {
     "iopub.execute_input": "2024-03-08T10:02:02.419407Z",
     "iopub.status.busy": "2024-03-08T10:02:02.418599Z",
     "iopub.status.idle": "2024-03-08T10:02:02.437562Z",
     "shell.execute_reply": "2024-03-08T10:02:02.436188Z"
    },
    "papermill": {
     "duration": 0.053762,
     "end_time": "2024-03-08T10:02:02.440888",
     "exception": false,
     "start_time": "2024-03-08T10:02:02.387126",
     "status": "completed"
    },
    "tags": []
   },
   "outputs": [
    {
     "data": {
      "text/html": [
       "<style>#sk-container-id-1 {color: black;background-color: white;}#sk-container-id-1 pre{padding: 0;}#sk-container-id-1 div.sk-toggleable {background-color: white;}#sk-container-id-1 label.sk-toggleable__label {cursor: pointer;display: block;width: 100%;margin-bottom: 0;padding: 0.3em;box-sizing: border-box;text-align: center;}#sk-container-id-1 label.sk-toggleable__label-arrow:before {content: \"▸\";float: left;margin-right: 0.25em;color: #696969;}#sk-container-id-1 label.sk-toggleable__label-arrow:hover:before {color: black;}#sk-container-id-1 div.sk-estimator:hover label.sk-toggleable__label-arrow:before {color: black;}#sk-container-id-1 div.sk-toggleable__content {max-height: 0;max-width: 0;overflow: hidden;text-align: left;background-color: #f0f8ff;}#sk-container-id-1 div.sk-toggleable__content pre {margin: 0.2em;color: black;border-radius: 0.25em;background-color: #f0f8ff;}#sk-container-id-1 input.sk-toggleable__control:checked~div.sk-toggleable__content {max-height: 200px;max-width: 100%;overflow: auto;}#sk-container-id-1 input.sk-toggleable__control:checked~label.sk-toggleable__label-arrow:before {content: \"▾\";}#sk-container-id-1 div.sk-estimator input.sk-toggleable__control:checked~label.sk-toggleable__label {background-color: #d4ebff;}#sk-container-id-1 div.sk-label input.sk-toggleable__control:checked~label.sk-toggleable__label {background-color: #d4ebff;}#sk-container-id-1 input.sk-hidden--visually {border: 0;clip: rect(1px 1px 1px 1px);clip: rect(1px, 1px, 1px, 1px);height: 1px;margin: -1px;overflow: hidden;padding: 0;position: absolute;width: 1px;}#sk-container-id-1 div.sk-estimator {font-family: monospace;background-color: #f0f8ff;border: 1px dotted black;border-radius: 0.25em;box-sizing: border-box;margin-bottom: 0.5em;}#sk-container-id-1 div.sk-estimator:hover {background-color: #d4ebff;}#sk-container-id-1 div.sk-parallel-item::after {content: \"\";width: 100%;border-bottom: 1px solid gray;flex-grow: 1;}#sk-container-id-1 div.sk-label:hover label.sk-toggleable__label {background-color: #d4ebff;}#sk-container-id-1 div.sk-serial::before {content: \"\";position: absolute;border-left: 1px solid gray;box-sizing: border-box;top: 0;bottom: 0;left: 50%;z-index: 0;}#sk-container-id-1 div.sk-serial {display: flex;flex-direction: column;align-items: center;background-color: white;padding-right: 0.2em;padding-left: 0.2em;position: relative;}#sk-container-id-1 div.sk-item {position: relative;z-index: 1;}#sk-container-id-1 div.sk-parallel {display: flex;align-items: stretch;justify-content: center;background-color: white;position: relative;}#sk-container-id-1 div.sk-item::before, #sk-container-id-1 div.sk-parallel-item::before {content: \"\";position: absolute;border-left: 1px solid gray;box-sizing: border-box;top: 0;bottom: 0;left: 50%;z-index: -1;}#sk-container-id-1 div.sk-parallel-item {display: flex;flex-direction: column;z-index: 1;position: relative;background-color: white;}#sk-container-id-1 div.sk-parallel-item:first-child::after {align-self: flex-end;width: 50%;}#sk-container-id-1 div.sk-parallel-item:last-child::after {align-self: flex-start;width: 50%;}#sk-container-id-1 div.sk-parallel-item:only-child::after {width: 0;}#sk-container-id-1 div.sk-dashed-wrapped {border: 1px dashed gray;margin: 0 0.4em 0.5em 0.4em;box-sizing: border-box;padding-bottom: 0.4em;background-color: white;}#sk-container-id-1 div.sk-label label {font-family: monospace;font-weight: bold;display: inline-block;line-height: 1.2em;}#sk-container-id-1 div.sk-label-container {text-align: center;}#sk-container-id-1 div.sk-container {/* jupyter's `normalize.less` sets `[hidden] { display: none; }` but bootstrap.min.css set `[hidden] { display: none !important; }` so we also need the `!important` here to be able to override the default hidden behavior on the sphinx rendered scikit-learn.org. See: https://github.com/scikit-learn/scikit-learn/issues/21755 */display: inline-block !important;position: relative;}#sk-container-id-1 div.sk-text-repr-fallback {display: none;}</style><div id=\"sk-container-id-1\" class=\"sk-top-container\"><div class=\"sk-text-repr-fallback\"><pre>DecisionTreeClassifier(random_state=42)</pre><b>In a Jupyter environment, please rerun this cell to show the HTML representation or trust the notebook. <br />On GitHub, the HTML representation is unable to render, please try loading this page with nbviewer.org.</b></div><div class=\"sk-container\" hidden><div class=\"sk-item\"><div class=\"sk-estimator sk-toggleable\"><input class=\"sk-toggleable__control sk-hidden--visually\" id=\"sk-estimator-id-1\" type=\"checkbox\" checked><label for=\"sk-estimator-id-1\" class=\"sk-toggleable__label sk-toggleable__label-arrow\">DecisionTreeClassifier</label><div class=\"sk-toggleable__content\"><pre>DecisionTreeClassifier(random_state=42)</pre></div></div></div></div></div>"
      ],
      "text/plain": [
       "DecisionTreeClassifier(random_state=42)"
      ]
     },
     "execution_count": 33,
     "metadata": {},
     "output_type": "execute_result"
    }
   ],
   "source": [
    "# INITIALIZING THE DECISION TREE\n",
    "dtree = DecisionTreeClassifier(random_state = 42)\n",
    "# fiiting the model\n",
    "dtree.fit(X_train_scaled, y_train)"
   ]
  },
  {
   "cell_type": "code",
   "execution_count": 34,
   "id": "2737a647",
   "metadata": {
    "execution": {
     "iopub.execute_input": "2024-03-08T10:02:02.499806Z",
     "iopub.status.busy": "2024-03-08T10:02:02.499349Z",
     "iopub.status.idle": "2024-03-08T10:02:02.510573Z",
     "shell.execute_reply": "2024-03-08T10:02:02.509345Z"
    },
    "papermill": {
     "duration": 0.043468,
     "end_time": "2024-03-08T10:02:02.513192",
     "exception": false,
     "start_time": "2024-03-08T10:02:02.469724",
     "status": "completed"
    },
    "tags": []
   },
   "outputs": [
    {
     "data": {
      "text/plain": [
       "array([1, 0, 0, 0, 0, 0, 0, 1, 0, 0, 0, 0, 0, 0, 0, 1, 0, 0, 0, 1, 0, 0,\n",
       "       0, 0, 0, 1, 0, 0, 1, 0, 0, 0, 0, 0, 0, 0, 0, 0, 0, 0, 1, 0, 1, 0,\n",
       "       0, 0, 1, 0, 0, 0, 1, 0, 0, 0, 0, 0, 0, 0, 0, 0, 0, 0, 0, 1, 0, 1,\n",
       "       1, 1, 0, 0, 0, 0, 0, 0, 0, 1, 0, 0, 0, 0, 1, 0, 0, 1, 0, 0, 0, 1,\n",
       "       0, 1, 0, 0, 0, 0, 1, 0, 1, 0, 0, 0, 1, 1, 0, 0, 0, 1, 0, 0, 0, 0,\n",
       "       1, 0, 1, 0, 1, 0, 1, 0, 0, 0, 0, 1, 0, 0, 0, 0, 0, 0, 0, 0, 0, 0,\n",
       "       0, 0, 0, 0, 1, 0, 0, 0, 1, 0, 0, 1, 0, 0, 0, 0, 0, 1, 0, 0, 0, 0,\n",
       "       0, 1, 0, 0, 1, 0, 1, 0, 0, 0, 1, 0, 0, 0, 0, 0, 0, 0, 0, 0, 0, 1,\n",
       "       0, 0, 0, 0, 0, 1, 0, 1])"
      ]
     },
     "execution_count": 34,
     "metadata": {},
     "output_type": "execute_result"
    }
   ],
   "source": [
    "# predicting on the test set\n",
    "y_pred = dtree.predict(X_test)\n",
    "y_pred"
   ]
  },
  {
   "cell_type": "code",
   "execution_count": 35,
   "id": "b249c3bc",
   "metadata": {
    "execution": {
     "iopub.execute_input": "2024-03-08T10:02:02.571484Z",
     "iopub.status.busy": "2024-03-08T10:02:02.570619Z",
     "iopub.status.idle": "2024-03-08T10:02:02.710710Z",
     "shell.execute_reply": "2024-03-08T10:02:02.708738Z"
    },
    "papermill": {
     "duration": 0.172931,
     "end_time": "2024-03-08T10:02:02.714177",
     "exception": false,
     "start_time": "2024-03-08T10:02:02.541246",
     "status": "completed"
    },
    "tags": []
   },
   "outputs": [
    {
     "name": "stdout",
     "output_type": "stream",
     "text": [
      "              precision    recall  f1-score   support\n",
      "\n",
      "           0       0.53      0.93      0.67        82\n",
      "           1       0.85      0.33      0.48       102\n",
      "\n",
      "    accuracy                           0.60       184\n",
      "   macro avg       0.69      0.63      0.58       184\n",
      "weighted avg       0.71      0.60      0.57       184\n",
      "\n"
     ]
    }
   ],
   "source": [
    "result = classification_report(y_test, y_pred)\n",
    "print(result)"
   ]
  },
  {
   "cell_type": "code",
   "execution_count": 36,
   "id": "5944d91a",
   "metadata": {
    "execution": {
     "iopub.execute_input": "2024-03-08T10:02:02.776672Z",
     "iopub.status.busy": "2024-03-08T10:02:02.775848Z",
     "iopub.status.idle": "2024-03-08T10:02:02.788401Z",
     "shell.execute_reply": "2024-03-08T10:02:02.786762Z"
    },
    "papermill": {
     "duration": 0.045535,
     "end_time": "2024-03-08T10:02:02.791795",
     "exception": false,
     "start_time": "2024-03-08T10:02:02.746260",
     "status": "completed"
    },
    "tags": []
   },
   "outputs": [
    {
     "data": {
      "text/html": [
       "<div>\n",
       "<style scoped>\n",
       "    .dataframe tbody tr th:only-of-type {\n",
       "        vertical-align: middle;\n",
       "    }\n",
       "\n",
       "    .dataframe tbody tr th {\n",
       "        vertical-align: top;\n",
       "    }\n",
       "\n",
       "    .dataframe thead th {\n",
       "        text-align: right;\n",
       "    }\n",
       "</style>\n",
       "<table border=\"1\" class=\"dataframe\">\n",
       "  <thead>\n",
       "    <tr style=\"text-align: right;\">\n",
       "      <th></th>\n",
       "      <th>y_pred</th>\n",
       "    </tr>\n",
       "  </thead>\n",
       "  <tbody>\n",
       "    <tr>\n",
       "      <th>0</th>\n",
       "      <td>1</td>\n",
       "    </tr>\n",
       "    <tr>\n",
       "      <th>1</th>\n",
       "      <td>0</td>\n",
       "    </tr>\n",
       "    <tr>\n",
       "      <th>2</th>\n",
       "      <td>0</td>\n",
       "    </tr>\n",
       "    <tr>\n",
       "      <th>3</th>\n",
       "      <td>0</td>\n",
       "    </tr>\n",
       "    <tr>\n",
       "      <th>4</th>\n",
       "      <td>0</td>\n",
       "    </tr>\n",
       "  </tbody>\n",
       "</table>\n",
       "</div>"
      ],
      "text/plain": [
       "   y_pred\n",
       "0       1\n",
       "1       0\n",
       "2       0\n",
       "3       0\n",
       "4       0"
      ]
     },
     "execution_count": 36,
     "metadata": {},
     "output_type": "execute_result"
    }
   ],
   "source": [
    "y_pred = pd.DataFrame(y_pred, columns = ['y_pred'])\n",
    "y_pred.head()\n",
    "# y_test = pd.DataFrame(y_test, columns = ['y_test'])\n"
   ]
  },
  {
   "cell_type": "code",
   "execution_count": null,
   "id": "ec3ff1fc",
   "metadata": {
    "papermill": {
     "duration": 0.029503,
     "end_time": "2024-03-08T10:02:02.852867",
     "exception": false,
     "start_time": "2024-03-08T10:02:02.823364",
     "status": "completed"
    },
    "tags": []
   },
   "outputs": [],
   "source": []
  }
 ],
 "metadata": {
  "kaggle": {
   "accelerator": "none",
   "dataSources": [
    {
     "datasetId": 1582403,
     "sourceId": 2603715,
     "sourceType": "datasetVersion"
    }
   ],
   "dockerImageVersionId": 30664,
   "isGpuEnabled": false,
   "isInternetEnabled": false,
   "language": "python",
   "sourceType": "notebook"
  },
  "kernelspec": {
   "display_name": "Python 3",
   "language": "python",
   "name": "python3"
  },
  "language_info": {
   "codemirror_mode": {
    "name": "ipython",
    "version": 3
   },
   "file_extension": ".py",
   "mimetype": "text/x-python",
   "name": "python",
   "nbconvert_exporter": "python",
   "pygments_lexer": "ipython3",
   "version": "3.10.13"
  },
  "papermill": {
   "default_parameters": {},
   "duration": 14.674354,
   "end_time": "2024-03-08T10:02:03.606261",
   "environment_variables": {},
   "exception": null,
   "input_path": "__notebook__.ipynb",
   "output_path": "__notebook__.ipynb",
   "parameters": {},
   "start_time": "2024-03-08T10:01:48.931907",
   "version": "2.5.0"
  }
 },
 "nbformat": 4,
 "nbformat_minor": 5
}
