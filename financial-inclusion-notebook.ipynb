{
 "cells": [
  {
   "cell_type": "markdown",
   "id": "43a4db58",
   "metadata": {
    "papermill": {
     "duration": 0.009834,
     "end_time": "2024-02-02T12:29:07.659167",
     "exception": false,
     "start_time": "2024-02-02T12:29:07.649333",
     "status": "completed"
    },
    "tags": []
   },
   "source": [
    "## FINANCIAL INCLUSION IN AFRICA ##\n",
    "* The objective of this competition is to create a machine learning model to predict which individuals are most likely to have or use a bank account. The models and solutions developed can provide an indication of the state of financial inclusion in Kenya, Rwanda, Tanzania and Uganda, while providing insights into some of the key factors driving individuals’ financial security."
   ]
  },
  {
   "cell_type": "markdown",
   "id": "44b1dac2",
   "metadata": {
    "papermill": {
     "duration": 0.009099,
     "end_time": "2024-02-02T12:29:07.678436",
     "exception": false,
     "start_time": "2024-02-02T12:29:07.669337",
     "status": "completed"
    },
    "tags": []
   },
   "source": [
    "### IMPORT THE LIBRARIES ###"
   ]
  },
  {
   "cell_type": "code",
   "execution_count": 1,
   "id": "86904a53",
   "metadata": {
    "execution": {
     "iopub.execute_input": "2024-02-02T12:29:07.699226Z",
     "iopub.status.busy": "2024-02-02T12:29:07.698811Z",
     "iopub.status.idle": "2024-02-02T12:29:11.050153Z",
     "shell.execute_reply": "2024-02-02T12:29:11.048910Z"
    },
    "papermill": {
     "duration": 3.365014,
     "end_time": "2024-02-02T12:29:11.052965",
     "exception": false,
     "start_time": "2024-02-02T12:29:07.687951",
     "status": "completed"
    },
    "tags": []
   },
   "outputs": [],
   "source": [
    "#dataframe manipulation\n",
    "import pandas as pd\n",
    "import numpy as np\n",
    "#visualization\n",
    "import seaborn as sns\n",
    "import matplotlib.pyplot as plt\n",
    "# sklearn\n",
    "from sklearn.metrics import mean_absolute_error\n",
    "from sklearn.model_selection import train_test_split\n",
    "from sklearn.ensemble import RandomForestClassifier\n",
    "from sklearn.preprocessing import LabelEncoder"
   ]
  },
  {
   "cell_type": "markdown",
   "id": "37398a3a",
   "metadata": {
    "papermill": {
     "duration": 0.008928,
     "end_time": "2024-02-02T12:29:11.071165",
     "exception": false,
     "start_time": "2024-02-02T12:29:11.062237",
     "status": "completed"
    },
    "tags": []
   },
   "source": [
    "### LOADING DATA"
   ]
  },
  {
   "cell_type": "code",
   "execution_count": 2,
   "id": "d81e7436",
   "metadata": {
    "execution": {
     "iopub.execute_input": "2024-02-02T12:29:11.091688Z",
     "iopub.status.busy": "2024-02-02T12:29:11.091117Z",
     "iopub.status.idle": "2024-02-02T12:29:11.303668Z",
     "shell.execute_reply": "2024-02-02T12:29:11.302727Z"
    },
    "papermill": {
     "duration": 0.225791,
     "end_time": "2024-02-02T12:29:11.306015",
     "exception": false,
     "start_time": "2024-02-02T12:29:11.080224",
     "status": "completed"
    },
    "tags": []
   },
   "outputs": [
    {
     "data": {
      "text/html": [
       "<div>\n",
       "<style scoped>\n",
       "    .dataframe tbody tr th:only-of-type {\n",
       "        vertical-align: middle;\n",
       "    }\n",
       "\n",
       "    .dataframe tbody tr th {\n",
       "        vertical-align: top;\n",
       "    }\n",
       "\n",
       "    .dataframe thead th {\n",
       "        text-align: right;\n",
       "    }\n",
       "</style>\n",
       "<table border=\"1\" class=\"dataframe\">\n",
       "  <thead>\n",
       "    <tr style=\"text-align: right;\">\n",
       "      <th></th>\n",
       "      <th>country</th>\n",
       "      <th>year</th>\n",
       "      <th>uniqueid</th>\n",
       "      <th>bank_account</th>\n",
       "      <th>location_type</th>\n",
       "      <th>cellphone_access</th>\n",
       "      <th>household_size</th>\n",
       "      <th>age_of_respondent</th>\n",
       "      <th>gender_of_respondent</th>\n",
       "      <th>relationship_with_head</th>\n",
       "      <th>marital_status</th>\n",
       "      <th>education_level</th>\n",
       "      <th>job_type</th>\n",
       "    </tr>\n",
       "  </thead>\n",
       "  <tbody>\n",
       "    <tr>\n",
       "      <th>0</th>\n",
       "      <td>Kenya</td>\n",
       "      <td>2018</td>\n",
       "      <td>uniqueid_1</td>\n",
       "      <td>Yes</td>\n",
       "      <td>Rural</td>\n",
       "      <td>Yes</td>\n",
       "      <td>3</td>\n",
       "      <td>24</td>\n",
       "      <td>Female</td>\n",
       "      <td>Spouse</td>\n",
       "      <td>Married/Living together</td>\n",
       "      <td>Secondary education</td>\n",
       "      <td>Self employed</td>\n",
       "    </tr>\n",
       "    <tr>\n",
       "      <th>1</th>\n",
       "      <td>Kenya</td>\n",
       "      <td>2018</td>\n",
       "      <td>uniqueid_2</td>\n",
       "      <td>No</td>\n",
       "      <td>Rural</td>\n",
       "      <td>No</td>\n",
       "      <td>5</td>\n",
       "      <td>70</td>\n",
       "      <td>Female</td>\n",
       "      <td>Head of Household</td>\n",
       "      <td>Widowed</td>\n",
       "      <td>No formal education</td>\n",
       "      <td>Government Dependent</td>\n",
       "    </tr>\n",
       "    <tr>\n",
       "      <th>2</th>\n",
       "      <td>Kenya</td>\n",
       "      <td>2018</td>\n",
       "      <td>uniqueid_3</td>\n",
       "      <td>Yes</td>\n",
       "      <td>Urban</td>\n",
       "      <td>Yes</td>\n",
       "      <td>5</td>\n",
       "      <td>26</td>\n",
       "      <td>Male</td>\n",
       "      <td>Other relative</td>\n",
       "      <td>Single/Never Married</td>\n",
       "      <td>Vocational/Specialised training</td>\n",
       "      <td>Self employed</td>\n",
       "    </tr>\n",
       "    <tr>\n",
       "      <th>3</th>\n",
       "      <td>Kenya</td>\n",
       "      <td>2018</td>\n",
       "      <td>uniqueid_4</td>\n",
       "      <td>No</td>\n",
       "      <td>Rural</td>\n",
       "      <td>Yes</td>\n",
       "      <td>5</td>\n",
       "      <td>34</td>\n",
       "      <td>Female</td>\n",
       "      <td>Head of Household</td>\n",
       "      <td>Married/Living together</td>\n",
       "      <td>Primary education</td>\n",
       "      <td>Formally employed Private</td>\n",
       "    </tr>\n",
       "    <tr>\n",
       "      <th>4</th>\n",
       "      <td>Kenya</td>\n",
       "      <td>2018</td>\n",
       "      <td>uniqueid_5</td>\n",
       "      <td>No</td>\n",
       "      <td>Urban</td>\n",
       "      <td>No</td>\n",
       "      <td>8</td>\n",
       "      <td>26</td>\n",
       "      <td>Male</td>\n",
       "      <td>Child</td>\n",
       "      <td>Single/Never Married</td>\n",
       "      <td>Primary education</td>\n",
       "      <td>Informally employed</td>\n",
       "    </tr>\n",
       "  </tbody>\n",
       "</table>\n",
       "</div>"
      ],
      "text/plain": [
       "  country  year    uniqueid bank_account location_type cellphone_access  \\\n",
       "0   Kenya  2018  uniqueid_1          Yes         Rural              Yes   \n",
       "1   Kenya  2018  uniqueid_2           No         Rural               No   \n",
       "2   Kenya  2018  uniqueid_3          Yes         Urban              Yes   \n",
       "3   Kenya  2018  uniqueid_4           No         Rural              Yes   \n",
       "4   Kenya  2018  uniqueid_5           No         Urban               No   \n",
       "\n",
       "   household_size  age_of_respondent gender_of_respondent  \\\n",
       "0               3                 24               Female   \n",
       "1               5                 70               Female   \n",
       "2               5                 26                 Male   \n",
       "3               5                 34               Female   \n",
       "4               8                 26                 Male   \n",
       "\n",
       "  relationship_with_head           marital_status  \\\n",
       "0                 Spouse  Married/Living together   \n",
       "1      Head of Household                  Widowed   \n",
       "2         Other relative     Single/Never Married   \n",
       "3      Head of Household  Married/Living together   \n",
       "4                  Child     Single/Never Married   \n",
       "\n",
       "                   education_level                   job_type  \n",
       "0              Secondary education              Self employed  \n",
       "1              No formal education       Government Dependent  \n",
       "2  Vocational/Specialised training              Self employed  \n",
       "3                Primary education  Formally employed Private  \n",
       "4                Primary education        Informally employed  "
      ]
     },
     "execution_count": 2,
     "metadata": {},
     "output_type": "execute_result"
    }
   ],
   "source": [
    "train = pd.read_csv(\"/kaggle/input/financial-inclusion/financial-inclusion-in-africa/Train.csv\")\n",
    "var_df = pd.read_csv(\"/kaggle/input/financial-inclusion/financial-inclusion-in-africa/VariableDefinitions.csv\")\n",
    "test = pd.read_csv(\"/kaggle/input/financial-inclusion/financial-inclusion-in-africa/Test.csv\")\n",
    "test['new_id'] = test['uniqueid'] + ' x ' + test['country']\n",
    "train.head()"
   ]
  },
  {
   "cell_type": "code",
   "execution_count": 3,
   "id": "1bd8aa8a",
   "metadata": {
    "execution": {
     "iopub.execute_input": "2024-02-02T12:29:11.327888Z",
     "iopub.status.busy": "2024-02-02T12:29:11.326982Z",
     "iopub.status.idle": "2024-02-02T12:29:11.330994Z",
     "shell.execute_reply": "2024-02-02T12:29:11.330196Z"
    },
    "papermill": {
     "duration": 0.01732,
     "end_time": "2024-02-02T12:29:11.333198",
     "exception": false,
     "start_time": "2024-02-02T12:29:11.315878",
     "status": "completed"
    },
    "tags": []
   },
   "outputs": [],
   "source": [
    "# var_df.head()"
   ]
  },
  {
   "cell_type": "markdown",
   "id": "fd876544",
   "metadata": {
    "papermill": {
     "duration": 0.009399,
     "end_time": "2024-02-02T12:29:11.352337",
     "exception": false,
     "start_time": "2024-02-02T12:29:11.342938",
     "status": "completed"
    },
    "tags": []
   },
   "source": [
    "### WE CAN KNOW OUTLIERS THROUGH THE MIN AND MAX"
   ]
  },
  {
   "cell_type": "code",
   "execution_count": 4,
   "id": "8ef3ae1a",
   "metadata": {
    "execution": {
     "iopub.execute_input": "2024-02-02T12:29:11.375658Z",
     "iopub.status.busy": "2024-02-02T12:29:11.374908Z",
     "iopub.status.idle": "2024-02-02T12:29:11.403991Z",
     "shell.execute_reply": "2024-02-02T12:29:11.402850Z"
    },
    "papermill": {
     "duration": 0.043872,
     "end_time": "2024-02-02T12:29:11.406331",
     "exception": false,
     "start_time": "2024-02-02T12:29:11.362459",
     "status": "completed"
    },
    "tags": []
   },
   "outputs": [
    {
     "data": {
      "text/html": [
       "<div>\n",
       "<style scoped>\n",
       "    .dataframe tbody tr th:only-of-type {\n",
       "        vertical-align: middle;\n",
       "    }\n",
       "\n",
       "    .dataframe tbody tr th {\n",
       "        vertical-align: top;\n",
       "    }\n",
       "\n",
       "    .dataframe thead th {\n",
       "        text-align: right;\n",
       "    }\n",
       "</style>\n",
       "<table border=\"1\" class=\"dataframe\">\n",
       "  <thead>\n",
       "    <tr style=\"text-align: right;\">\n",
       "      <th></th>\n",
       "      <th>year</th>\n",
       "      <th>household_size</th>\n",
       "      <th>age_of_respondent</th>\n",
       "    </tr>\n",
       "  </thead>\n",
       "  <tbody>\n",
       "    <tr>\n",
       "      <th>count</th>\n",
       "      <td>23524.000000</td>\n",
       "      <td>23524.000000</td>\n",
       "      <td>23524.000000</td>\n",
       "    </tr>\n",
       "    <tr>\n",
       "      <th>mean</th>\n",
       "      <td>2016.975939</td>\n",
       "      <td>3.797483</td>\n",
       "      <td>38.805220</td>\n",
       "    </tr>\n",
       "    <tr>\n",
       "      <th>std</th>\n",
       "      <td>0.847371</td>\n",
       "      <td>2.227613</td>\n",
       "      <td>16.520569</td>\n",
       "    </tr>\n",
       "    <tr>\n",
       "      <th>min</th>\n",
       "      <td>2016.000000</td>\n",
       "      <td>1.000000</td>\n",
       "      <td>16.000000</td>\n",
       "    </tr>\n",
       "    <tr>\n",
       "      <th>25%</th>\n",
       "      <td>2016.000000</td>\n",
       "      <td>2.000000</td>\n",
       "      <td>26.000000</td>\n",
       "    </tr>\n",
       "    <tr>\n",
       "      <th>50%</th>\n",
       "      <td>2017.000000</td>\n",
       "      <td>3.000000</td>\n",
       "      <td>35.000000</td>\n",
       "    </tr>\n",
       "    <tr>\n",
       "      <th>75%</th>\n",
       "      <td>2018.000000</td>\n",
       "      <td>5.000000</td>\n",
       "      <td>49.000000</td>\n",
       "    </tr>\n",
       "    <tr>\n",
       "      <th>max</th>\n",
       "      <td>2018.000000</td>\n",
       "      <td>21.000000</td>\n",
       "      <td>100.000000</td>\n",
       "    </tr>\n",
       "  </tbody>\n",
       "</table>\n",
       "</div>"
      ],
      "text/plain": [
       "               year  household_size  age_of_respondent\n",
       "count  23524.000000    23524.000000       23524.000000\n",
       "mean    2016.975939        3.797483          38.805220\n",
       "std        0.847371        2.227613          16.520569\n",
       "min     2016.000000        1.000000          16.000000\n",
       "25%     2016.000000        2.000000          26.000000\n",
       "50%     2017.000000        3.000000          35.000000\n",
       "75%     2018.000000        5.000000          49.000000\n",
       "max     2018.000000       21.000000         100.000000"
      ]
     },
     "execution_count": 4,
     "metadata": {},
     "output_type": "execute_result"
    }
   ],
   "source": [
    "#Look at the Data, identify those outliers,\n",
    "#Drop the rows with outliers if they are less than 5%,\n",
    "#Fill the rows with the mean distribution\n",
    "train.describe()"
   ]
  },
  {
   "cell_type": "code",
   "execution_count": 5,
   "id": "ae25eff5",
   "metadata": {
    "execution": {
     "iopub.execute_input": "2024-02-02T12:29:11.428337Z",
     "iopub.status.busy": "2024-02-02T12:29:11.427914Z",
     "iopub.status.idle": "2024-02-02T12:29:11.434680Z",
     "shell.execute_reply": "2024-02-02T12:29:11.433497Z"
    },
    "papermill": {
     "duration": 0.020557,
     "end_time": "2024-02-02T12:29:11.437192",
     "exception": false,
     "start_time": "2024-02-02T12:29:11.416635",
     "status": "completed"
    },
    "tags": []
   },
   "outputs": [
    {
     "data": {
      "text/plain": [
       "(23524, 13)"
      ]
     },
     "execution_count": 5,
     "metadata": {},
     "output_type": "execute_result"
    }
   ],
   "source": [
    "train.shape"
   ]
  },
  {
   "cell_type": "code",
   "execution_count": 6,
   "id": "89b31b2f",
   "metadata": {
    "execution": {
     "iopub.execute_input": "2024-02-02T12:29:11.459443Z",
     "iopub.status.busy": "2024-02-02T12:29:11.458676Z",
     "iopub.status.idle": "2024-02-02T12:29:11.510020Z",
     "shell.execute_reply": "2024-02-02T12:29:11.509158Z"
    },
    "papermill": {
     "duration": 0.065261,
     "end_time": "2024-02-02T12:29:11.512603",
     "exception": false,
     "start_time": "2024-02-02T12:29:11.447342",
     "status": "completed"
    },
    "tags": []
   },
   "outputs": [
    {
     "name": "stdout",
     "output_type": "stream",
     "text": [
      "<class 'pandas.core.frame.DataFrame'>\n",
      "RangeIndex: 23524 entries, 0 to 23523\n",
      "Data columns (total 13 columns):\n",
      " #   Column                  Non-Null Count  Dtype \n",
      "---  ------                  --------------  ----- \n",
      " 0   country                 23524 non-null  object\n",
      " 1   year                    23524 non-null  int64 \n",
      " 2   uniqueid                23524 non-null  object\n",
      " 3   bank_account            23524 non-null  object\n",
      " 4   location_type           23524 non-null  object\n",
      " 5   cellphone_access        23524 non-null  object\n",
      " 6   household_size          23524 non-null  int64 \n",
      " 7   age_of_respondent       23524 non-null  int64 \n",
      " 8   gender_of_respondent    23524 non-null  object\n",
      " 9   relationship_with_head  23524 non-null  object\n",
      " 10  marital_status          23524 non-null  object\n",
      " 11  education_level         23524 non-null  object\n",
      " 12  job_type                23524 non-null  object\n",
      "dtypes: int64(3), object(10)\n",
      "memory usage: 2.3+ MB\n"
     ]
    }
   ],
   "source": [
    "train.info()"
   ]
  },
  {
   "cell_type": "code",
   "execution_count": 7,
   "id": "c6322691",
   "metadata": {
    "execution": {
     "iopub.execute_input": "2024-02-02T12:29:11.535175Z",
     "iopub.status.busy": "2024-02-02T12:29:11.534514Z",
     "iopub.status.idle": "2024-02-02T12:29:11.570349Z",
     "shell.execute_reply": "2024-02-02T12:29:11.569156Z"
    },
    "papermill": {
     "duration": 0.050203,
     "end_time": "2024-02-02T12:29:11.573085",
     "exception": false,
     "start_time": "2024-02-02T12:29:11.522882",
     "status": "completed"
    },
    "tags": []
   },
   "outputs": [
    {
     "data": {
      "text/plain": [
       "country                   0\n",
       "year                      0\n",
       "uniqueid                  0\n",
       "bank_account              0\n",
       "location_type             0\n",
       "cellphone_access          0\n",
       "household_size            0\n",
       "age_of_respondent         0\n",
       "gender_of_respondent      0\n",
       "relationship_with_head    0\n",
       "marital_status            0\n",
       "education_level           0\n",
       "job_type                  0\n",
       "dtype: int64"
      ]
     },
     "execution_count": 7,
     "metadata": {},
     "output_type": "execute_result"
    }
   ],
   "source": [
    "train.isnull().sum().T"
   ]
  },
  {
   "cell_type": "markdown",
   "id": "a2018910",
   "metadata": {
    "papermill": {
     "duration": 0.010062,
     "end_time": "2024-02-02T12:29:11.593593",
     "exception": false,
     "start_time": "2024-02-02T12:29:11.583531",
     "status": "completed"
    },
    "tags": []
   },
   "source": [
    "## EDA"
   ]
  },
  {
   "cell_type": "markdown",
   "id": "bc55c00b",
   "metadata": {
    "papermill": {
     "duration": 0.010175,
     "end_time": "2024-02-02T12:29:11.614226",
     "exception": false,
     "start_time": "2024-02-02T12:29:11.604051",
     "status": "completed"
    },
    "tags": []
   },
   "source": [
    "### NUMERICAL EDA"
   ]
  },
  {
   "cell_type": "code",
   "execution_count": 8,
   "id": "66986a30",
   "metadata": {
    "execution": {
     "iopub.execute_input": "2024-02-02T12:29:11.637519Z",
     "iopub.status.busy": "2024-02-02T12:29:11.636658Z",
     "iopub.status.idle": "2024-02-02T12:29:12.212816Z",
     "shell.execute_reply": "2024-02-02T12:29:12.211588Z"
    },
    "papermill": {
     "duration": 0.590555,
     "end_time": "2024-02-02T12:29:12.215456",
     "exception": false,
     "start_time": "2024-02-02T12:29:11.624901",
     "status": "completed"
    },
    "tags": []
   },
   "outputs": [
    {
     "name": "stderr",
     "output_type": "stream",
     "text": [
      "/tmp/ipykernel_19/2385163320.py:1: UserWarning: \n",
      "\n",
      "`distplot` is a deprecated function and will be removed in seaborn v0.14.0.\n",
      "\n",
      "Please adapt your code to use either `displot` (a figure-level function with\n",
      "similar flexibility) or `histplot` (an axes-level function for histograms).\n",
      "\n",
      "For a guide to updating your code to use the new functions, please see\n",
      "https://gist.github.com/mwaskom/de44147ed2974457ad6372750bbe5751\n",
      "\n",
      "  sns.distplot(train['age_of_respondent'])\n",
      "/opt/conda/lib/python3.10/site-packages/seaborn/_oldcore.py:1119: FutureWarning: use_inf_as_na option is deprecated and will be removed in a future version. Convert inf values to NaN before operating instead.\n",
      "  with pd.option_context('mode.use_inf_as_na', True):\n"
     ]
    },
    {
     "data": {
      "text/plain": [
       "<Axes: xlabel='age_of_respondent', ylabel='Density'>"
      ]
     },
     "execution_count": 8,
     "metadata": {},
     "output_type": "execute_result"
    },
    {
     "data": {
      "image/png": "[encoded data removed]",
      "text/plain": [
       "<Figure size 640x480 with 1 Axes>"
      ]
     },
     "metadata": {},
     "output_type": "display_data"
    }
   ],
   "source": [
    "sns.distplot(train['age_of_respondent'])"
   ]
  },
  {
   "cell_type": "code",
   "execution_count": 9,
   "id": "629dee84",
   "metadata": {
    "execution": {
     "iopub.execute_input": "2024-02-02T12:29:12.239880Z",
     "iopub.status.busy": "2024-02-02T12:29:12.239463Z",
     "iopub.status.idle": "2024-02-02T12:29:12.768811Z",
     "shell.execute_reply": "2024-02-02T12:29:12.767182Z"
    },
    "papermill": {
     "duration": 0.545508,
     "end_time": "2024-02-02T12:29:12.772357",
     "exception": false,
     "start_time": "2024-02-02T12:29:12.226849",
     "status": "completed"
    },
    "tags": []
   },
   "outputs": [
    {
     "name": "stderr",
     "output_type": "stream",
     "text": [
      "/tmp/ipykernel_19/2063122450.py:1: UserWarning: \n",
      "\n",
      "`distplot` is a deprecated function and will be removed in seaborn v0.14.0.\n",
      "\n",
      "Please adapt your code to use either `displot` (a figure-level function with\n",
      "similar flexibility) or `histplot` (an axes-level function for histograms).\n",
      "\n",
      "For a guide to updating your code to use the new functions, please see\n",
      "https://gist.github.com/mwaskom/de44147ed2974457ad6372750bbe5751\n",
      "\n",
      "  sns.distplot(np.log1p(train['age_of_respondent']))\n",
      "/opt/conda/lib/python3.10/site-packages/seaborn/_oldcore.py:1119: FutureWarning: use_inf_as_na option is deprecated and will be removed in a future version. Convert inf values to NaN before operating instead.\n",
      "  with pd.option_context('mode.use_inf_as_na', True):\n"
     ]
    },
    {
     "data": {
      "text/plain": [
       "<Axes: xlabel='age_of_respondent', ylabel='Density'>"
      ]
     },
     "execution_count": 9,
     "metadata": {},
     "output_type": "execute_result"
    },
    {
     "data": {
      "image/png": "[encoded data removed]",
      "text/plain": [
       "<Figure size 640x480 with 1 Axes>"
      ]
     },
     "metadata": {},
     "output_type": "display_data"
    }
   ],
   "source": [
    "sns.distplot(np.log1p(train['age_of_respondent']))"
   ]
  },
  {
   "cell_type": "markdown",
   "id": "5e33016a",
   "metadata": {
    "papermill": {
     "duration": 0.011709,
     "end_time": "2024-02-02T12:29:12.797296",
     "exception": false,
     "start_time": "2024-02-02T12:29:12.785587",
     "status": "completed"
    },
    "tags": []
   },
   "source": [
    "CATEGORICAL EDA"
   ]
  },
  {
   "cell_type": "markdown",
   "id": "77b51329",
   "metadata": {
    "papermill": {
     "duration": 0.01223,
     "end_time": "2024-02-02T12:29:12.822093",
     "exception": false,
     "start_time": "2024-02-02T12:29:12.809863",
     "status": "completed"
    },
    "tags": []
   },
   "source": [
    "Bank account"
   ]
  },
  {
   "cell_type": "code",
   "execution_count": 10,
   "id": "cc60a6cf",
   "metadata": {
    "execution": {
     "iopub.execute_input": "2024-02-02T12:29:12.848446Z",
     "iopub.status.busy": "2024-02-02T12:29:12.847578Z",
     "iopub.status.idle": "2024-02-02T12:29:13.117053Z",
     "shell.execute_reply": "2024-02-02T12:29:13.115266Z"
    },
    "papermill": {
     "duration": 0.286163,
     "end_time": "2024-02-02T12:29:13.120426",
     "exception": false,
     "start_time": "2024-02-02T12:29:12.834263",
     "status": "completed"
    },
    "tags": []
   },
   "outputs": [
    {
     "data": {
      "text/plain": [
       "<Axes: xlabel='bank_account', ylabel='count'>"
      ]
     },
     "execution_count": 10,
     "metadata": {},
     "output_type": "execute_result"
    },
    {
     "data": {
      "image/png": "[encoded data removed]",
      "text/plain": [
       "<Figure size 640x480 with 1 Axes>"
      ]
     },
     "metadata": {},
     "output_type": "display_data"
    }
   ],
   "source": [
    "sns.countplot(train, x =\"bank_account\")"
   ]
  },
  {
   "cell_type": "markdown",
   "id": "1d9f254b",
   "metadata": {
    "papermill": {
     "duration": 0.018521,
     "end_time": "2024-02-02T12:29:13.159230",
     "exception": false,
     "start_time": "2024-02-02T12:29:13.140709",
     "status": "completed"
    },
    "tags": []
   },
   "source": [
    "### FEATURE ENGINEERING"
   ]
  },
  {
   "cell_type": "markdown",
   "id": "b5b5f0b6",
   "metadata": {
    "papermill": {
     "duration": 0.012884,
     "end_time": "2024-02-02T12:29:13.185347",
     "exception": false,
     "start_time": "2024-02-02T12:29:13.172463",
     "status": "completed"
    },
    "tags": []
   },
   "source": []
  },
  {
   "cell_type": "code",
   "execution_count": 11,
   "id": "2166dd87",
   "metadata": {
    "execution": {
     "iopub.execute_input": "2024-02-02T12:29:13.214441Z",
     "iopub.status.busy": "2024-02-02T12:29:13.214044Z",
     "iopub.status.idle": "2024-02-02T12:29:13.310726Z",
     "shell.execute_reply": "2024-02-02T12:29:13.309560Z"
    },
    "papermill": {
     "duration": 0.114755,
     "end_time": "2024-02-02T12:29:13.313548",
     "exception": false,
     "start_time": "2024-02-02T12:29:13.198793",
     "status": "completed"
    },
    "tags": []
   },
   "outputs": [],
   "source": [
    "le = LabelEncoder()\n",
    "for df in [train, test]:\n",
    "    df['age_of_respondent'] = np.log1p(df['age_of_respondent'])\n",
    "    for col in ['country', 'location_type','cellphone_access', \n",
    "       'gender_of_respondent', 'relationship_with_head', 'marital_status',\n",
    "       'education_level', 'job_type']:\n",
    "        df[col] = le.fit_transform(df[col])\n",
    "      \n",
    "    "
   ]
  },
  {
   "cell_type": "code",
   "execution_count": 12,
   "id": "830d7ac5",
   "metadata": {
    "execution": {
     "iopub.execute_input": "2024-02-02T12:29:13.340975Z",
     "iopub.status.busy": "2024-02-02T12:29:13.340563Z",
     "iopub.status.idle": "2024-02-02T12:29:13.355667Z",
     "shell.execute_reply": "2024-02-02T12:29:13.354646Z"
    },
    "papermill": {
     "duration": 0.031418,
     "end_time": "2024-02-02T12:29:13.358085",
     "exception": false,
     "start_time": "2024-02-02T12:29:13.326667",
     "status": "completed"
    },
    "tags": []
   },
   "outputs": [
    {
     "data": {
      "text/plain": [
       "<bound method NDFrame.head of        country  year       uniqueid bank_account  location_type  \\\n",
       "0            0  2018     uniqueid_1          Yes              0   \n",
       "1            0  2018     uniqueid_2           No              0   \n",
       "2            0  2018     uniqueid_3          Yes              1   \n",
       "3            0  2018     uniqueid_4           No              0   \n",
       "4            0  2018     uniqueid_5           No              1   \n",
       "...        ...   ...            ...          ...            ...   \n",
       "23519        3  2018  uniqueid_2113           No              0   \n",
       "23520        3  2018  uniqueid_2114           No              0   \n",
       "23521        3  2018  uniqueid_2115           No              0   \n",
       "23522        3  2018  uniqueid_2116           No              1   \n",
       "23523        3  2018  uniqueid_2117           No              0   \n",
       "\n",
       "       cellphone_access  household_size  age_of_respondent  \\\n",
       "0                     1               3           3.218876   \n",
       "1                     0               5           4.262680   \n",
       "2                     1               5           3.295837   \n",
       "3                     1               5           3.555348   \n",
       "4                     0               8           3.295837   \n",
       "...                 ...             ...                ...   \n",
       "23519                 1               4           3.891820   \n",
       "23520                 1               2           3.332205   \n",
       "23521                 1               5           3.332205   \n",
       "23522                 1               7           3.433987   \n",
       "23523                 1              10           3.044522   \n",
       "\n",
       "       gender_of_respondent  relationship_with_head  marital_status  \\\n",
       "0                         0                       5               2   \n",
       "1                         0                       1               4   \n",
       "2                         1                       3               3   \n",
       "3                         0                       1               2   \n",
       "4                         1                       0               3   \n",
       "...                     ...                     ...             ...   \n",
       "23519                     0                       1               0   \n",
       "23520                     0                       1               3   \n",
       "23521                     0                       4               4   \n",
       "23522                     0                       4               0   \n",
       "23523                     1                       0               3   \n",
       "\n",
       "       education_level  job_type  \n",
       "0                    3         9  \n",
       "1                    0         4  \n",
       "2                    5         9  \n",
       "3                    2         3  \n",
       "4                    2         5  \n",
       "...                ...       ...  \n",
       "23519                0         7  \n",
       "23520                3         7  \n",
       "23521                2         7  \n",
       "23522                3         9  \n",
       "23523                3         6  \n",
       "\n",
       "[23524 rows x 13 columns]>"
      ]
     },
     "execution_count": 12,
     "metadata": {},
     "output_type": "execute_result"
    }
   ],
   "source": [
    "train.head"
   ]
  },
  {
   "cell_type": "code",
   "execution_count": 13,
   "id": "87c8fea0",
   "metadata": {
    "execution": {
     "iopub.execute_input": "2024-02-02T12:29:13.385730Z",
     "iopub.status.busy": "2024-02-02T12:29:13.385346Z",
     "iopub.status.idle": "2024-02-02T12:29:13.401947Z",
     "shell.execute_reply": "2024-02-02T12:29:13.400756Z"
    },
    "papermill": {
     "duration": 0.033462,
     "end_time": "2024-02-02T12:29:13.404476",
     "exception": false,
     "start_time": "2024-02-02T12:29:13.371014",
     "status": "completed"
    },
    "tags": []
   },
   "outputs": [
    {
     "data": {
      "text/html": [
       "<div>\n",
       "<style scoped>\n",
       "    .dataframe tbody tr th:only-of-type {\n",
       "        vertical-align: middle;\n",
       "    }\n",
       "\n",
       "    .dataframe tbody tr th {\n",
       "        vertical-align: top;\n",
       "    }\n",
       "\n",
       "    .dataframe thead th {\n",
       "        text-align: right;\n",
       "    }\n",
       "</style>\n",
       "<table border=\"1\" class=\"dataframe\">\n",
       "  <thead>\n",
       "    <tr style=\"text-align: right;\">\n",
       "      <th></th>\n",
       "      <th>country</th>\n",
       "      <th>year</th>\n",
       "      <th>uniqueid</th>\n",
       "      <th>location_type</th>\n",
       "      <th>cellphone_access</th>\n",
       "      <th>household_size</th>\n",
       "      <th>age_of_respondent</th>\n",
       "      <th>gender_of_respondent</th>\n",
       "      <th>relationship_with_head</th>\n",
       "      <th>marital_status</th>\n",
       "      <th>education_level</th>\n",
       "      <th>job_type</th>\n",
       "      <th>new_id</th>\n",
       "    </tr>\n",
       "  </thead>\n",
       "  <tbody>\n",
       "    <tr>\n",
       "      <th>0</th>\n",
       "      <td>0</td>\n",
       "      <td>2018</td>\n",
       "      <td>uniqueid_6056</td>\n",
       "      <td>1</td>\n",
       "      <td>1</td>\n",
       "      <td>3</td>\n",
       "      <td>3.433987</td>\n",
       "      <td>1</td>\n",
       "      <td>1</td>\n",
       "      <td>2</td>\n",
       "      <td>3</td>\n",
       "      <td>2</td>\n",
       "      <td>uniqueid_6056 x Kenya</td>\n",
       "    </tr>\n",
       "    <tr>\n",
       "      <th>1</th>\n",
       "      <td>0</td>\n",
       "      <td>2018</td>\n",
       "      <td>uniqueid_6060</td>\n",
       "      <td>1</td>\n",
       "      <td>1</td>\n",
       "      <td>7</td>\n",
       "      <td>3.951244</td>\n",
       "      <td>1</td>\n",
       "      <td>1</td>\n",
       "      <td>2</td>\n",
       "      <td>5</td>\n",
       "      <td>3</td>\n",
       "      <td>uniqueid_6060 x Kenya</td>\n",
       "    </tr>\n",
       "    <tr>\n",
       "      <th>2</th>\n",
       "      <td>0</td>\n",
       "      <td>2018</td>\n",
       "      <td>uniqueid_6065</td>\n",
       "      <td>0</td>\n",
       "      <td>0</td>\n",
       "      <td>3</td>\n",
       "      <td>4.356709</td>\n",
       "      <td>0</td>\n",
       "      <td>4</td>\n",
       "      <td>2</td>\n",
       "      <td>0</td>\n",
       "      <td>8</td>\n",
       "      <td>uniqueid_6065 x Kenya</td>\n",
       "    </tr>\n",
       "    <tr>\n",
       "      <th>3</th>\n",
       "      <td>0</td>\n",
       "      <td>2018</td>\n",
       "      <td>uniqueid_6072</td>\n",
       "      <td>0</td>\n",
       "      <td>0</td>\n",
       "      <td>6</td>\n",
       "      <td>3.688879</td>\n",
       "      <td>0</td>\n",
       "      <td>1</td>\n",
       "      <td>2</td>\n",
       "      <td>2</td>\n",
       "      <td>8</td>\n",
       "      <td>uniqueid_6072 x Kenya</td>\n",
       "    </tr>\n",
       "    <tr>\n",
       "      <th>4</th>\n",
       "      <td>0</td>\n",
       "      <td>2018</td>\n",
       "      <td>uniqueid_6073</td>\n",
       "      <td>1</td>\n",
       "      <td>0</td>\n",
       "      <td>3</td>\n",
       "      <td>2.833213</td>\n",
       "      <td>1</td>\n",
       "      <td>0</td>\n",
       "      <td>3</td>\n",
       "      <td>3</td>\n",
       "      <td>8</td>\n",
       "      <td>uniqueid_6073 x Kenya</td>\n",
       "    </tr>\n",
       "  </tbody>\n",
       "</table>\n",
       "</div>"
      ],
      "text/plain": [
       "   country  year       uniqueid  location_type  cellphone_access  \\\n",
       "0        0  2018  uniqueid_6056              1                 1   \n",
       "1        0  2018  uniqueid_6060              1                 1   \n",
       "2        0  2018  uniqueid_6065              0                 0   \n",
       "3        0  2018  uniqueid_6072              0                 0   \n",
       "4        0  2018  uniqueid_6073              1                 0   \n",
       "\n",
       "   household_size  age_of_respondent  gender_of_respondent  \\\n",
       "0               3           3.433987                     1   \n",
       "1               7           3.951244                     1   \n",
       "2               3           4.356709                     0   \n",
       "3               6           3.688879                     0   \n",
       "4               3           2.833213                     1   \n",
       "\n",
       "   relationship_with_head  marital_status  education_level  job_type  \\\n",
       "0                       1               2                3         2   \n",
       "1                       1               2                5         3   \n",
       "2                       4               2                0         8   \n",
       "3                       1               2                2         8   \n",
       "4                       0               3                3         8   \n",
       "\n",
       "                  new_id  \n",
       "0  uniqueid_6056 x Kenya  \n",
       "1  uniqueid_6060 x Kenya  \n",
       "2  uniqueid_6065 x Kenya  \n",
       "3  uniqueid_6072 x Kenya  \n",
       "4  uniqueid_6073 x Kenya  "
      ]
     },
     "execution_count": 13,
     "metadata": {},
     "output_type": "execute_result"
    }
   ],
   "source": [
    "test.head()"
   ]
  },
  {
   "cell_type": "markdown",
   "id": "fb190d78",
   "metadata": {
    "papermill": {
     "duration": 0.012875,
     "end_time": "2024-02-02T12:29:13.430488",
     "exception": false,
     "start_time": "2024-02-02T12:29:13.417613",
     "status": "completed"
    },
    "tags": []
   },
   "source": [
    "### TRAINING AND EVALUATION"
   ]
  },
  {
   "cell_type": "code",
   "execution_count": 14,
   "id": "c86f79c9",
   "metadata": {
    "execution": {
     "iopub.execute_input": "2024-02-02T12:29:13.459104Z",
     "iopub.status.busy": "2024-02-02T12:29:13.458678Z",
     "iopub.status.idle": "2024-02-02T12:29:13.466118Z",
     "shell.execute_reply": "2024-02-02T12:29:13.464926Z"
    },
    "papermill": {
     "duration": 0.024977,
     "end_time": "2024-02-02T12:29:13.468699",
     "exception": false,
     "start_time": "2024-02-02T12:29:13.443722",
     "status": "completed"
    },
    "tags": []
   },
   "outputs": [
    {
     "data": {
      "text/plain": [
       "Index(['country', 'year', 'uniqueid', 'bank_account', 'location_type',\n",
       "       'cellphone_access', 'household_size', 'age_of_respondent',\n",
       "       'gender_of_respondent', 'relationship_with_head', 'marital_status',\n",
       "       'education_level', 'job_type'],\n",
       "      dtype='object')"
      ]
     },
     "execution_count": 14,
     "metadata": {},
     "output_type": "execute_result"
    }
   ],
   "source": [
    "train.columns"
   ]
  },
  {
   "cell_type": "code",
   "execution_count": 15,
   "id": "ba9067bf",
   "metadata": {
    "execution": {
     "iopub.execute_input": "2024-02-02T12:29:13.498266Z",
     "iopub.status.busy": "2024-02-02T12:29:13.497016Z",
     "iopub.status.idle": "2024-02-02T12:29:13.502890Z",
     "shell.execute_reply": "2024-02-02T12:29:13.501704Z"
    },
    "papermill": {
     "duration": 0.023448,
     "end_time": "2024-02-02T12:29:13.505546",
     "exception": false,
     "start_time": "2024-02-02T12:29:13.482098",
     "status": "completed"
    },
    "tags": []
   },
   "outputs": [],
   "source": [
    "x_features =['country', 'year','location_type',\n",
    "       'cellphone_access', 'household_size', 'age_of_respondent',\n",
    "       'gender_of_respondent', 'relationship_with_head', 'marital_status',\n",
    "       'education_level', 'job_type']\n",
    "y_target = \"bank_account\""
   ]
  },
  {
   "cell_type": "code",
   "execution_count": 16,
   "id": "21cb6007",
   "metadata": {
    "execution": {
     "iopub.execute_input": "2024-02-02T12:29:13.534631Z",
     "iopub.status.busy": "2024-02-02T12:29:13.533642Z",
     "iopub.status.idle": "2024-02-02T12:29:13.628538Z",
     "shell.execute_reply": "2024-02-02T12:29:13.627121Z"
    },
    "papermill": {
     "duration": 0.11225,
     "end_time": "2024-02-02T12:29:13.631223",
     "exception": false,
     "start_time": "2024-02-02T12:29:13.518973",
     "status": "completed"
    },
    "tags": []
   },
   "outputs": [],
   "source": [
    "train['stratify'] = train['bank_account'] + '_' + train['country'].astype('str')\n",
    "train['bank_account'] = le.fit_transform(train['bank_account'])\n",
    "x = train[x_features]\n",
    "y = train[y_target]\n",
    "\n",
    "x_train, x_valid, y_train, y_valid = train_test_split(x, y, test_size = 0.2 , stratify = train['stratify'] , random_state = 42)"
   ]
  },
  {
   "cell_type": "code",
   "execution_count": 17,
   "id": "13b7c6ef",
   "metadata": {
    "execution": {
     "iopub.execute_input": "2024-02-02T12:29:13.661876Z",
     "iopub.status.busy": "2024-02-02T12:29:13.660685Z",
     "iopub.status.idle": "2024-02-02T12:29:15.827220Z",
     "shell.execute_reply": "2024-02-02T12:29:15.825890Z"
    },
    "papermill": {
     "duration": 2.184687,
     "end_time": "2024-02-02T12:29:15.829963",
     "exception": false,
     "start_time": "2024-02-02T12:29:13.645276",
     "status": "completed"
    },
    "tags": []
   },
   "outputs": [
    {
     "name": "stdout",
     "output_type": "stream",
     "text": [
      "mean absolute error:  0.13156216790648245\n"
     ]
    }
   ],
   "source": [
    "model = RandomForestClassifier(random_state = 42)\n",
    "model.fit(x_train, y_train)\n",
    "predictions = model.predict(x_valid)\n",
    "\n",
    "print(\"mean absolute error: \", mean_absolute_error(predictions, y_valid))"
   ]
  },
  {
   "cell_type": "code",
   "execution_count": 18,
   "id": "d65946e6",
   "metadata": {
    "execution": {
     "iopub.execute_input": "2024-02-02T12:29:15.858618Z",
     "iopub.status.busy": "2024-02-02T12:29:15.858226Z",
     "iopub.status.idle": "2024-02-02T12:29:16.045412Z",
     "shell.execute_reply": "2024-02-02T12:29:16.044297Z"
    },
    "papermill": {
     "duration": 0.204814,
     "end_time": "2024-02-02T12:29:16.048351",
     "exception": false,
     "start_time": "2024-02-02T12:29:15.843537",
     "status": "completed"
    },
    "tags": []
   },
   "outputs": [],
   "source": [
    "test_preds = model.predict(test[x_features])\n",
    "test['preds'] = test_preds\n"
   ]
  },
  {
   "cell_type": "code",
   "execution_count": 19,
   "id": "6344c0b9",
   "metadata": {
    "execution": {
     "iopub.execute_input": "2024-02-02T12:29:16.078620Z",
     "iopub.status.busy": "2024-02-02T12:29:16.077413Z",
     "iopub.status.idle": "2024-02-02T12:29:16.109964Z",
     "shell.execute_reply": "2024-02-02T12:29:16.108934Z"
    },
    "papermill": {
     "duration": 0.050819,
     "end_time": "2024-02-02T12:29:16.112716",
     "exception": false,
     "start_time": "2024-02-02T12:29:16.061897",
     "status": "completed"
    },
    "tags": []
   },
   "outputs": [],
   "source": [
    "sub = test[['new_id','preds']]\n",
    "sub.to_csv(\"Financial_1.csv\", index=False)"
   ]
  },
  {
   "cell_type": "code",
   "execution_count": null,
   "id": "b6e7ca21",
   "metadata": {
    "papermill": {
     "duration": 0.013028,
     "end_time": "2024-02-02T12:29:16.139198",
     "exception": false,
     "start_time": "2024-02-02T12:29:16.126170",
     "status": "completed"
    },
    "tags": []
   },
   "outputs": [],
   "source": []
  }
 ],
 "metadata": {
  "kaggle": {
   "accelerator": "none",
   "dataSources": [
    {
     "datasetId": 4389623,
     "sourceId": 7538223,
     "sourceType": "datasetVersion"
    }
   ],
   "dockerImageVersionId": 30646,
   "isGpuEnabled": false,
   "isInternetEnabled": false,
   "language": "python",
   "sourceType": "notebook"
  },
  "kernelspec": {
   "display_name": "Python 3",
   "language": "python",
   "name": "python3"
  },
  "language_info": {
   "codemirror_mode": {
    "name": "ipython",
    "version": 3
   },
   "file_extension": ".py",
   "mimetype": "text/x-python",
   "name": "python",
   "nbconvert_exporter": "python",
   "pygments_lexer": "ipython3",
   "version": "3.10.13"
  },
  "papermill": {
   "default_parameters": {},
   "duration": 12.380315,
   "end_time": "2024-02-02T12:29:16.874653",
   "environment_variables": {},
   "exception": null,
   "input_path": "__notebook__.ipynb",
   "output_path": "__notebook__.ipynb",
   "parameters": {},
   "start_time": "2024-02-02T12:29:04.494338",
   "version": "2.5.0"
  }
 },
 "nbformat": 4,
 "nbformat_minor": 5
}
